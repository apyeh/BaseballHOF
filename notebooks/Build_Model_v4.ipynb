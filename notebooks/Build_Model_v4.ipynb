{
 "cells": [
  {
   "cell_type": "code",
   "execution_count": 161,
   "metadata": {
    "collapsed": false
   },
   "outputs": [],
   "source": [
    "import pandas as pd\n",
    "import numpy as np\n",
    "import sklearn as sk\n",
    "import pickle\n",
    "from sklearn.svm import SVC\n",
    "from sklearn.svm import LinearSVC\n",
    "from sklearn.linear_model import LogisticRegressionCV\n",
    "from sklearn.linear_model import LogisticRegression\n",
    "from sklearn.tree import DecisionTreeClassifier\n",
    "from sklearn.ensemble import RandomForestClassifier\n",
    "from sklearn.ensemble import GradientBoostingClassifier\n",
    "from sklearn.cross_validation import train_test_split\n",
    "from sklearn import metrics\n",
    "from sklearn.metrics import confusion_matrix\n",
    "from sklearn.metrics import classification_report\n",
    "from sklearn.metrics import hinge_loss\n",
    "from sklearn.grid_search import GridSearchCV\n",
    "from sklearn.metrics import precision_recall_curve\n",
    "from sklearn.cross_validation import cross_val_score\n",
    "from sklearn.metrics import roc_curve\n",
    "from sklearn.metrics import auc\n",
    "\n",
    "import matplotlib.pyplot as plt\n",
    "%matplotlib inline\n",
    "\n",
    "from imblearn.over_sampling import RandomOverSampler\n",
    "from imblearn.over_sampling import SMOTE"
   ]
  },
  {
   "cell_type": "code",
   "execution_count": 2,
   "metadata": {
    "collapsed": false
   },
   "outputs": [
    {
     "data": {
      "text/plain": [
       "'1.11.1'"
      ]
     },
     "execution_count": 2,
     "metadata": {},
     "output_type": "execute_result"
    }
   ],
   "source": [
    "np.__version__"
   ]
  },
  {
   "cell_type": "code",
   "execution_count": 3,
   "metadata": {
    "collapsed": false
   },
   "outputs": [
    {
     "data": {
      "text/plain": [
       "'0.17.1'"
      ]
     },
     "execution_count": 3,
     "metadata": {},
     "output_type": "execute_result"
    }
   ],
   "source": [
    "sk.__version__"
   ]
  },
  {
   "cell_type": "markdown",
   "metadata": {},
   "source": [
    "### Return to using mean retirement age of HOF eligible players to obtain 'years remaining'. This gave better models than using retirement age of all MLB players throughout history (tried in v2). \n",
    "\n",
    "Input files from Explore_Clean_Data_v9.ipynb\n",
    "\n",
    "There's a big difference in that age. The former on average plays until ~37 while the latter plays until ~29."
   ]
  },
  {
   "cell_type": "code",
   "execution_count": 2,
   "metadata": {
    "collapsed": false
   },
   "outputs": [],
   "source": [
    "# X1 does not include 'year' column\n",
    "with open('X_features_hitters.pkl') as f:\n",
    "    X1 = pickle.load(f)\n",
    "    \n",
    "# X2 includes 'year' column\n",
    "with open('X2_features_hitters.pkl') as f:\n",
    "    X2 = pickle.load(f)\n",
    "\n",
    "# X3 includes 'year' and 'yearID' columns\n",
    "with open('X3_features_hitters.pkl') as f:\n",
    "    X3 = pickle.load(f)\n",
    "\n",
    "# X4 includes 'year', 'DBE1', 'DBE2', and 'SE' columns\n",
    "with open('X4_features_hitters.pkl') as f:\n",
    "    X4 = pickle.load(f)\n"
   ]
  },
  {
   "cell_type": "code",
   "execution_count": 3,
   "metadata": {
    "collapsed": true
   },
   "outputs": [],
   "source": [
    "with open('y_labels_hitter.pkl') as f:\n",
    "    y = pickle.load(f)"
   ]
  },
  {
   "cell_type": "markdown",
   "metadata": {},
   "source": [
    "### Split data into training and hold out set"
   ]
  },
  {
   "cell_type": "code",
   "execution_count": 8,
   "metadata": {
    "collapsed": false
   },
   "outputs": [],
   "source": [
    "X1_train_val, X1_holdout, y1_train_val, y1_holdout = train_test_split(X1, y, test_size=0.20, random_state=42)"
   ]
  },
  {
   "cell_type": "code",
   "execution_count": 9,
   "metadata": {
    "collapsed": false
   },
   "outputs": [],
   "source": [
    "X2_train_val, X2_holdout, y2_train_val, y2_holdout = train_test_split(X2, y, test_size=0.20, random_state=42)"
   ]
  },
  {
   "cell_type": "code",
   "execution_count": 10,
   "metadata": {
    "collapsed": true
   },
   "outputs": [],
   "source": [
    "X3_train_val, X3_holdout, y3_train_val, y3_holdout = train_test_split(X3, y, test_size=0.20, random_state=42)"
   ]
  },
  {
   "cell_type": "code",
   "execution_count": 11,
   "metadata": {
    "collapsed": true
   },
   "outputs": [],
   "source": [
    "X4_train_val, X4_holdout, y4_train_val, y4_holdout = train_test_split(X4, y, test_size=0.20, random_state=42)"
   ]
  },
  {
   "cell_type": "markdown",
   "metadata": {},
   "source": [
    "### Split train_val data into training set and validation set"
   ]
  },
  {
   "cell_type": "code",
   "execution_count": 12,
   "metadata": {
    "collapsed": true
   },
   "outputs": [],
   "source": [
    "X1_train, X1_val, y1_train, y1_val = train_test_split(X1_train_val, y1_train_val, test_size=0.25, random_state=42)"
   ]
  },
  {
   "cell_type": "code",
   "execution_count": 13,
   "metadata": {
    "collapsed": true
   },
   "outputs": [],
   "source": [
    "X2_train, X2_val, y2_train, y2_val = train_test_split(X2_train_val, y2_train_val, test_size=0.25, random_state=42)"
   ]
  },
  {
   "cell_type": "code",
   "execution_count": 14,
   "metadata": {
    "collapsed": true
   },
   "outputs": [],
   "source": [
    "X3_train, X3_val, y3_train, y3_val = train_test_split(X3_train_val, y3_train_val, test_size=0.25, random_state=42)"
   ]
  },
  {
   "cell_type": "code",
   "execution_count": 15,
   "metadata": {
    "collapsed": true
   },
   "outputs": [],
   "source": [
    "X4_train, X4_val, y4_train, y4_val = train_test_split(X4_train_val, y4_train_val, test_size=0.25, random_state=42)"
   ]
  },
  {
   "cell_type": "code",
   "execution_count": null,
   "metadata": {
    "collapsed": true
   },
   "outputs": [],
   "source": []
  },
  {
   "cell_type": "markdown",
   "metadata": {},
   "source": [
    "### Over-sampled data"
   ]
  },
  {
   "cell_type": "code",
   "execution_count": 64,
   "metadata": {
    "collapsed": false
   },
   "outputs": [
    {
     "name": "stderr",
     "output_type": "stream",
     "text": [
      "/Applications/anaconda/lib/python2.7/site-packages/sklearn/utils/class_weight.py:62: DeprecationWarning: The class_weight='auto' heuristic is deprecated in 0.17 in favor of a new heuristic class_weight='balanced'. 'auto' will be removed in 0.19\n",
      "  \" 0.19\", DeprecationWarning)\n"
     ]
    }
   ],
   "source": [
    "# Generate the new dataset using under-sampling method\n",
    "verbose = False\n",
    "ratio = 'auto'\n",
    "\n",
    "# 'Random over-sampling'\n",
    "OS = RandomOverSampler(ratio=ratio, verbose=verbose)\n",
    "X1_train_os, y1_train_os = OS.fit_sample(X1_train, y1_train)\n",
    "\n",
    "# 'SMOTE'\n",
    "smote = SMOTE(ratio=ratio, verbose=verbose, kind='regular')\n",
    "X1_train_smo, y1_train_smo = smote.fit_sample(X1_train, y1_train)\n",
    "\n",
    "# 'SMOTE bordeline 1'\n",
    "bsmote1 = SMOTE(ratio=ratio, verbose=verbose, kind='borderline1')\n",
    "X1_train_bs1, y1_train_bs1 = bsmote1.fit_sample(X1_train, y1_train)\n",
    "\n",
    "# 'SMOTE bordeline 2'\n",
    "bsmote2 = SMOTE(ratio=ratio, verbose=verbose, kind='borderline2')\n",
    "X1_train_bs2, y1_train_bs2 = bsmote2.fit_sample(X1_train, y1_train)\n",
    "\n",
    "# 'SMOTE SVM'\n",
    "svm_args={'class_weight': 'auto'}\n",
    "svmsmote = SMOTE(ratio=ratio, verbose=verbose, kind='svm', **svm_args)\n",
    "X1_train_svs, y1_train_svs = svmsmote.fit_sample(X1_train, y1_train)\n"
   ]
  },
  {
   "cell_type": "markdown",
   "metadata": {},
   "source": [
    "### linear SVM - data 1"
   ]
  },
  {
   "cell_type": "code",
   "execution_count": 17,
   "metadata": {
    "collapsed": true
   },
   "outputs": [],
   "source": [
    "svm01 = LinearSVC()"
   ]
  },
  {
   "cell_type": "code",
   "execution_count": 53,
   "metadata": {
    "collapsed": false
   },
   "outputs": [
    {
     "data": {
      "text/plain": [
       "LinearSVC(C=1.0, class_weight=None, dual=True, fit_intercept=True,\n",
       "     intercept_scaling=1, loss='squared_hinge', max_iter=1000,\n",
       "     multi_class='ovr', penalty='l2', random_state=None, tol=0.0001,\n",
       "     verbose=0)"
      ]
     },
     "execution_count": 53,
     "metadata": {},
     "output_type": "execute_result"
    }
   ],
   "source": [
    "svm01.fit(X1_train, y1_train)"
   ]
  },
  {
   "cell_type": "code",
   "execution_count": 20,
   "metadata": {
    "collapsed": false
   },
   "outputs": [],
   "source": [
    "svm01_predictions = svm01.predict(X1_val)"
   ]
  },
  {
   "cell_type": "code",
   "execution_count": 21,
   "metadata": {
    "collapsed": false
   },
   "outputs": [
    {
     "data": {
      "text/plain": [
       "0.82056798623063687"
      ]
     },
     "execution_count": 21,
     "metadata": {},
     "output_type": "execute_result"
    }
   ],
   "source": [
    "svm01.score(X1_val, y1_val)"
   ]
  },
  {
   "cell_type": "code",
   "execution_count": 100,
   "metadata": {
    "collapsed": false,
    "scrolled": true
   },
   "outputs": [
    {
     "name": "stdout",
     "output_type": "stream",
     "text": [
      "Accuracy: 0.8206\n",
      "Recall: 0.3687\n",
      "Precision: 0.797\n",
      "Hinge loss: 0.932\n",
      "F1 score: 0.5042\n"
     ]
    }
   ],
   "source": [
    "print \"Accuracy: %.4g\" % metrics.accuracy_score(y1_val, svm01_predictions, normalize=True)\n",
    "print \"Recall: %.4g\" % metrics.recall_score(y1_val, svm01_predictions)\n",
    "print \"Precision: %.4g\" % metrics.precision_score(y1_val, svm01_predictions)\n",
    "print \"Hinge loss: %.4g\" % metrics.hinge_loss(y1_val, svm01_predictions)\n",
    "print \"F1 score: %.4g\" % metrics.f1_score(y1_val, svm01_predictions)"
   ]
  },
  {
   "cell_type": "code",
   "execution_count": 101,
   "metadata": {
    "collapsed": false,
    "scrolled": true
   },
   "outputs": [
    {
     "name": "stdout",
     "output_type": "stream",
     "text": [
      "Accuracy: 0.8206\n",
      "Recall: 0.3687\n",
      "Precision: 0.797\n",
      "Hinge loss: 0.932\n",
      "F1 score: 0.5042\n",
      "AUC: 0.6689\n"
     ]
    }
   ],
   "source": [
    "print \"Accuracy: %.4g\" % metrics.accuracy_score(y1_val, svm01_predictions, normalize=True)\n",
    "print \"Recall: %.4g\" % metrics.recall_score(y1_val, svm01_predictions)\n",
    "print \"Precision: %.4g\" % metrics.precision_score(y1_val, svm01_predictions)\n",
    "print \"Hinge loss: %.4g\" % metrics.hinge_loss(y1_val, svm01_predictions)\n",
    "print \"F1 score: %.4g\" % metrics.f1_score(y1_val, svm01_predictions)\n",
    "svm01_fpr, svm01_tpr, thresholds = metrics.roc_curve(y1_val, svm01_predictions)\n",
    "print \"AUC: %.4g\" % metrics.auc(svm01_fpr, svm01_tpr)"
   ]
  },
  {
   "cell_type": "markdown",
   "metadata": {},
   "source": [
    "### linear SVM model  w/ data 2"
   ]
  },
  {
   "cell_type": "code",
   "execution_count": 24,
   "metadata": {
    "collapsed": false
   },
   "outputs": [],
   "source": [
    "svm02 = LinearSVC()\n",
    "svm02.fit(X2_train, y2_train)\n",
    "svm02_predictions = svm02.predict(X2_val)"
   ]
  },
  {
   "cell_type": "code",
   "execution_count": 111,
   "metadata": {
    "collapsed": false,
    "scrolled": false
   },
   "outputs": [
    {
     "name": "stdout",
     "output_type": "stream",
     "text": [
      "Accuracy: 0.8167\n",
      "Recall: 0.3513\n",
      "Precision: 0.7922\n",
      "Hinge loss: 0.9359\n",
      "F1 score: 0.4867\n",
      "AUC: 0.6605\n"
     ]
    }
   ],
   "source": [
    "print \"Accuracy: %.4g\" % metrics.accuracy_score(y2_val, svm02_predictions, normalize=True)\n",
    "print \"Recall: %.4g\" % metrics.recall_score(y2_val, svm02_predictions)\n",
    "print \"Precision: %.4g\" % metrics.precision_score(y2_val, svm02_predictions)\n",
    "print \"Hinge loss: %.4g\" % metrics.hinge_loss(y2_val, svm02_predictions)\n",
    "print \"F1 score: %.4g\" % metrics.f1_score(y2_val, svm02_predictions)\n",
    "svm02_fpr, svm02_tpr, thresholds = metrics.roc_curve(y2_val, svm02_predictions)\n",
    "print \"AUC: %.4g\" % metrics.auc(svm02_fpr, svm02_tpr)"
   ]
  },
  {
   "cell_type": "code",
   "execution_count": 69,
   "metadata": {
    "collapsed": false,
    "scrolled": true
   },
   "outputs": [
    {
     "data": {
      "text/plain": [
       "array([[2583,  118],\n",
       "       [ 462,  323]])"
      ]
     },
     "execution_count": 69,
     "metadata": {},
     "output_type": "execute_result"
    }
   ],
   "source": [
    "confusion_matrix(y_test, svm02_predictions)"
   ]
  },
  {
   "cell_type": "markdown",
   "metadata": {},
   "source": [
    "### Balance classes"
   ]
  },
  {
   "cell_type": "code",
   "execution_count": 55,
   "metadata": {
    "collapsed": false
   },
   "outputs": [
    {
     "name": "stderr",
     "output_type": "stream",
     "text": [
      "/Applications/anaconda/lib/python2.7/site-packages/sklearn/utils/class_weight.py:62: DeprecationWarning: The class_weight='auto' heuristic is deprecated in 0.17 in favor of a new heuristic class_weight='balanced'. 'auto' will be removed in 0.19\n",
      "  \" 0.19\", DeprecationWarning)\n"
     ]
    }
   ],
   "source": [
    "svm02b = LinearSVC(class_weight='auto')\n",
    "svm02b.fit(X2_train, y2_train)\n",
    "svm02b_predictions = svm02b.predict(X2_val)"
   ]
  },
  {
   "cell_type": "code",
   "execution_count": 34,
   "metadata": {
    "collapsed": false
   },
   "outputs": [
    {
     "name": "stdout",
     "output_type": "stream",
     "text": [
      "Accuracy: 0.7199\n",
      "Recall: 0.8261\n",
      "Precision: 0.463\n",
      "Hinge loss: 1.033\n",
      "F1 score: 0.5934\n"
     ]
    }
   ],
   "source": [
    "print \"Accuracy: %.4g\" % metrics.accuracy_score(y2_val, svm02b_predictions, normalize=True)\n",
    "print \"Recall: %.4g\" % metrics.recall_score(y2_val, svm02b_predictions)\n",
    "print \"Precision: %.4g\" % metrics.precision_score(y2_val, svm02b_predictions)\n",
    "print \"Hinge loss: %.4g\" % metrics.hinge_loss(y2_val, svm02b_predictions)\n",
    "print \"F1 score: %.4g\" % metrics.f1_score(y2_val, svm02b_predictions)"
   ]
  },
  {
   "cell_type": "code",
   "execution_count": 18,
   "metadata": {
    "collapsed": false
   },
   "outputs": [
    {
     "name": "stdout",
     "output_type": "stream",
     "text": [
      "Accuracy: 0.7757\n",
      "Recall: 0.7363\n",
      "Precision: 0.5013\n",
      "Hinge loss: 0.9991\n",
      "F1 score: 0.5965\n"
     ]
    }
   ],
   "source": [
    "# Old\n",
    "print \"Accuracy: %.4g\" % metrics.accuracy_score(y2_test, svm02b_predictions, normalize=True)\n",
    "print \"Recall: %.4g\" % metrics.recall_score(y2_test, svm02b_predictions)\n",
    "print \"Precision: %.4g\" % metrics.precision_score(y2_test, svm02b_predictions)\n",
    "print \"Hinge loss: %.4g\" % metrics.hinge_loss(y2_test, svm02b_predictions)\n",
    "print \"F1 score: %.4g\" % metrics.f1_score(y2_test, svm02b_predictions)"
   ]
  },
  {
   "cell_type": "code",
   "execution_count": null,
   "metadata": {
    "collapsed": true
   },
   "outputs": [],
   "source": []
  },
  {
   "cell_type": "markdown",
   "metadata": {},
   "source": [
    "### Do grid search"
   ]
  },
  {
   "cell_type": "code",
   "execution_count": 35,
   "metadata": {
    "collapsed": false
   },
   "outputs": [
    {
     "data": {
      "text/plain": [
       "GridSearchCV(cv=None, error_score='raise',\n",
       "       estimator=LinearSVC(C=1.0, class_weight='balanced', dual=True, fit_intercept=True,\n",
       "     intercept_scaling=1, loss='squared_hinge', max_iter=1000,\n",
       "     multi_class='ovr', penalty='l2', random_state=None, tol=0.0001,\n",
       "     verbose=0),\n",
       "       fit_params={}, iid=True, n_jobs=1,\n",
       "       param_grid={'C': [0.1, 1, 2.5, 5, 7.5, 10, 20, 50]},\n",
       "       pre_dispatch='2*n_jobs', refit=True, scoring=None, verbose=0)"
      ]
     },
     "execution_count": 35,
     "metadata": {},
     "output_type": "execute_result"
    }
   ],
   "source": [
    "param_grid_svm02b = {'C': [0.1, 1, 2.5, 5, 7.5, 10, 20, 50]}\n",
    "\n",
    "svm02b_gscv = GridSearchCV(svm02b, param_grid_svm02b)\n",
    "svm02b_gscv.fit(X2_train_val, y2_train_val)"
   ]
  },
  {
   "cell_type": "code",
   "execution_count": 20,
   "metadata": {
    "collapsed": false,
    "scrolled": true
   },
   "outputs": [
    {
     "data": {
      "text/plain": [
       "{'C': 7.5}"
      ]
     },
     "execution_count": 20,
     "metadata": {},
     "output_type": "execute_result"
    }
   ],
   "source": [
    "svm02b_gscv.best_params_"
   ]
  },
  {
   "cell_type": "code",
   "execution_count": 58,
   "metadata": {
    "collapsed": false
   },
   "outputs": [
    {
     "name": "stderr",
     "output_type": "stream",
     "text": [
      "/Applications/anaconda/lib/python2.7/site-packages/sklearn/utils/class_weight.py:62: DeprecationWarning: The class_weight='auto' heuristic is deprecated in 0.17 in favor of a new heuristic class_weight='balanced'. 'auto' will be removed in 0.19\n",
      "  \" 0.19\", DeprecationWarning)\n"
     ]
    }
   ],
   "source": [
    "svm02c = LinearSVC(C=7.5, class_weight='auto')\n",
    "svm02c.fit(X2_train, y2_train)\n",
    "svm02c_predictions = svm02c.predict(X2_val)"
   ]
  },
  {
   "cell_type": "code",
   "execution_count": 59,
   "metadata": {
    "collapsed": false
   },
   "outputs": [
    {
     "name": "stdout",
     "output_type": "stream",
     "text": [
      "Accuracy: 0.787\n",
      "Recall: 0.473\n",
      "Precision: 0.5862\n",
      "Hinge loss: 0.9656\n",
      "F1 score: 0.5236\n"
     ]
    }
   ],
   "source": [
    "print \"Accuracy: %.4g\" % metrics.accuracy_score(y2_val, svm02c_predictions, normalize=True)\n",
    "print \"Recall: %.4g\" % metrics.recall_score(y2_val, svm02c_predictions)\n",
    "print \"Precision: %.4g\" % metrics.precision_score(y2_val, svm02c_predictions)\n",
    "print \"Hinge loss: %.4g\" % metrics.hinge_loss(y2_val, svm02c_predictions)\n",
    "print \"F1 score: %.4g\" % metrics.f1_score(y2_val, svm02c_predictions)"
   ]
  },
  {
   "cell_type": "code",
   "execution_count": 57,
   "metadata": {
    "collapsed": false
   },
   "outputs": [
    {
     "name": "stdout",
     "output_type": "stream",
     "text": [
      "Accuracy: 0.7853\n",
      "Recall: 0.5165\n",
      "Precision: 0.5734\n",
      "Hinge loss: 0.9673\n",
      "F1 score: 0.5435\n"
     ]
    }
   ],
   "source": [
    "print \"Accuracy: %.4g\" % metrics.accuracy_score(y2_val, svm02c_predictions, normalize=True)\n",
    "print \"Recall: %.4g\" % metrics.recall_score(y2_val, svm02c_predictions)\n",
    "print \"Precision: %.4g\" % metrics.precision_score(y2_val, svm02c_predictions)\n",
    "print \"Hinge loss: %.4g\" % metrics.hinge_loss(y2_val, svm02c_predictions)\n",
    "print \"F1 score: %.4g\" % metrics.f1_score(y2_val, svm02c_predictions)"
   ]
  },
  {
   "cell_type": "code",
   "execution_count": 22,
   "metadata": {
    "collapsed": false
   },
   "outputs": [
    {
     "name": "stdout",
     "output_type": "stream",
     "text": [
      "Accuracy: 0.7935\n",
      "Recall: 0.5045\n",
      "Precision: 0.5447\n",
      "Hinge loss: 0.9814\n",
      "F1 score: 0.5238\n"
     ]
    }
   ],
   "source": [
    "print \"Accuracy: %.4g\" % metrics.accuracy_score(y2_test, svm02c_predictions, normalize=True)\n",
    "print \"Recall: %.4g\" % metrics.recall_score(y2_test, svm02c_predictions)\n",
    "print \"Precision: %.4g\" % metrics.precision_score(y2_test, svm02c_predictions)\n",
    "print \"Hinge loss: %.4g\" % metrics.hinge_loss(y2_test, svm02c_predictions)\n",
    "print \"F1 score: %.4g\" % metrics.f1_score(y2_test, svm02c_predictions)"
   ]
  },
  {
   "cell_type": "markdown",
   "metadata": {},
   "source": [
    "### linear SVM - data 3"
   ]
  },
  {
   "cell_type": "code",
   "execution_count": 68,
   "metadata": {
    "collapsed": true
   },
   "outputs": [],
   "source": [
    "svm03 = LinearSVC()\n",
    "svm03.fit(X3_train, y3_train)\n",
    "svm03_predictions = svm03.predict(X3_val)"
   ]
  },
  {
   "cell_type": "code",
   "execution_count": 70,
   "metadata": {
    "collapsed": false
   },
   "outputs": [
    {
     "name": "stdout",
     "output_type": "stream",
     "text": [
      "Accuracy: 0.2474\n",
      "Recall: 1\n",
      "Precision: 0.2474\n",
      "Hinge loss: 1.505\n",
      "F1 score: 0.3967\n"
     ]
    }
   ],
   "source": [
    "print \"Accuracy: %.4g\" % metrics.accuracy_score(y3_val, svm03_predictions, normalize=True)\n",
    "print \"Recall: %.4g\" % metrics.recall_score(y3_val, svm03_predictions)\n",
    "print \"Precision: %.4g\" % metrics.precision_score(y3_val, svm03_predictions)\n",
    "print \"Hinge loss: %.4g\" % metrics.hinge_loss(y3_val, svm03_predictions)\n",
    "print \"F1 score: %.4g\" % metrics.f1_score(y3_val, svm03_predictions)"
   ]
  },
  {
   "cell_type": "code",
   "execution_count": 26,
   "metadata": {
    "collapsed": false
   },
   "outputs": [
    {
     "name": "stdout",
     "output_type": "stream",
     "text": [
      "Accuracy: 0.7877\n",
      "Recall: 0.06752\n",
      "Precision: 0.8689\n",
      "Hinge loss: 0.9871\n",
      "F1 score: 0.1253\n"
     ]
    }
   ],
   "source": [
    "# Old\n",
    "print \"Accuracy: %.4g\" % metrics.accuracy_score(y3_test, svm03_predictions, normalize=True)\n",
    "print \"Recall: %.4g\" % metrics.recall_score(y3_test, svm03_predictions)\n",
    "print \"Precision: %.4g\" % metrics.precision_score(y3_test, svm03_predictions)\n",
    "print \"Hinge loss: %.4g\" % metrics.hinge_loss(y3_test, svm03_predictions)\n",
    "print \"F1 score: %.4g\" % metrics.f1_score(y3_test, svm03_predictions)"
   ]
  },
  {
   "cell_type": "code",
   "execution_count": 19,
   "metadata": {
    "collapsed": false,
    "scrolled": true
   },
   "outputs": [
    {
     "data": {
      "text/plain": [
       "array([[2701,    0],\n",
       "       [ 785,    0]])"
      ]
     },
     "execution_count": 19,
     "metadata": {},
     "output_type": "execute_result"
    }
   ],
   "source": [
    "confusion_matrix(y_test, svm03_predictions)"
   ]
  },
  {
   "cell_type": "markdown",
   "metadata": {},
   "source": [
    "### linear SVM - data 4"
   ]
  },
  {
   "cell_type": "code",
   "execution_count": 71,
   "metadata": {
    "collapsed": true
   },
   "outputs": [],
   "source": [
    "svm04 = LinearSVC()\n",
    "svm04.fit(X4_train, y4_train)\n",
    "svm04_predictions = svm04.predict(X4_val)"
   ]
  },
  {
   "cell_type": "code",
   "execution_count": 72,
   "metadata": {
    "collapsed": false
   },
   "outputs": [
    {
     "name": "stdout",
     "output_type": "stream",
     "text": [
      "Accuracy: 0.7526\n",
      "Recall: 0\n",
      "Precision: 0\n",
      "Hinge loss: 1\n",
      "F1 score: 0\n"
     ]
    },
    {
     "name": "stderr",
     "output_type": "stream",
     "text": [
      "/Applications/anaconda/lib/python2.7/site-packages/sklearn/metrics/classification.py:1074: UndefinedMetricWarning: Precision is ill-defined and being set to 0.0 due to no predicted samples.\n",
      "  'precision', 'predicted', average, warn_for)\n",
      "/Applications/anaconda/lib/python2.7/site-packages/sklearn/metrics/classification.py:1074: UndefinedMetricWarning: F-score is ill-defined and being set to 0.0 due to no predicted samples.\n",
      "  'precision', 'predicted', average, warn_for)\n"
     ]
    }
   ],
   "source": [
    "print \"Accuracy: %.4g\" % metrics.accuracy_score(y4_val, svm04_predictions, normalize=True)\n",
    "print \"Recall: %.4g\" % metrics.recall_score(y4_val, svm04_predictions)\n",
    "print \"Precision: %.4g\" % metrics.precision_score(y4_val, svm04_predictions)\n",
    "print \"Hinge loss: %.4g\" % metrics.hinge_loss(y4_val, svm04_predictions)\n",
    "print \"F1 score: %.4g\" % metrics.f1_score(y4_val, svm04_predictions)"
   ]
  },
  {
   "cell_type": "markdown",
   "metadata": {},
   "source": [
    "### Basic linear SVM model with data 1 gave best F1-score"
   ]
  },
  {
   "cell_type": "markdown",
   "metadata": {},
   "source": [
    "### Try Over-sampling training data"
   ]
  },
  {
   "cell_type": "code",
   "execution_count": 65,
   "metadata": {
    "collapsed": true
   },
   "outputs": [],
   "source": [
    "# Smote SVM\n",
    "svm01svs = LinearSVC()\n",
    "svm01svs.fit(X1_train_svs, y1_train_svs)\n",
    "svm01svs_predictions = svm01svs.predict(X1_val)"
   ]
  },
  {
   "cell_type": "code",
   "execution_count": 118,
   "metadata": {
    "collapsed": false
   },
   "outputs": [
    {
     "name": "stdout",
     "output_type": "stream",
     "text": [
      "Accuracy: 0.7083\n",
      "Recall: 0.8226\n",
      "Precision: 0.4509\n",
      "Hinge loss: 1.044\n",
      "F1 score: 0.5825\n",
      "AUC: 0.7466\n"
     ]
    }
   ],
   "source": [
    "print \"Accuracy: %.4g\" % metrics.accuracy_score(y1_val, svm01svs_predictions, normalize=True)\n",
    "print \"Recall: %.4g\" % metrics.recall_score(y1_val, svm01svs_predictions)\n",
    "print \"Precision: %.4g\" % metrics.precision_score(y1_val, svm01svs_predictions)\n",
    "print \"Hinge loss: %.4g\" % metrics.hinge_loss(y1_val, svm01svs_predictions)\n",
    "print \"F1 score: %.4g\" % metrics.f1_score(y1_val, svm01svs_predictions)\n",
    "svm01svs_fpr, svm01svs_tpr, thresholds = metrics.roc_curve(y1_val, svm01svs_predictions)\n",
    "print \"AUC: %.4g\" % metrics.auc(svm01svs_fpr, svm01svs_tpr)"
   ]
  },
  {
   "cell_type": "code",
   "execution_count": 117,
   "metadata": {
    "collapsed": true
   },
   "outputs": [],
   "source": [
    "# Random oversampling\n",
    "svm01os = LinearSVC()\n",
    "svm01os.fit(X1_train_os, y1_train_os)\n",
    "svm01os_predictions = svm01svs.predict(X1_val)"
   ]
  },
  {
   "cell_type": "code",
   "execution_count": 119,
   "metadata": {
    "collapsed": false
   },
   "outputs": [
    {
     "name": "stdout",
     "output_type": "stream",
     "text": [
      "Accuracy: 0.7083\n",
      "Recall: 0.8226\n",
      "Precision: 0.4509\n",
      "Hinge loss: 1.044\n",
      "F1 score: 0.5825\n",
      "AUC: 0.7466\n"
     ]
    }
   ],
   "source": [
    "print \"Accuracy: %.4g\" % metrics.accuracy_score(y1_val, svm01os_predictions, normalize=True)\n",
    "print \"Recall: %.4g\" % metrics.recall_score(y1_val, svm01os_predictions)\n",
    "print \"Precision: %.4g\" % metrics.precision_score(y1_val, svm01os_predictions)\n",
    "print \"Hinge loss: %.4g\" % metrics.hinge_loss(y1_val, svm01os_predictions)\n",
    "print \"F1 score: %.4g\" % metrics.f1_score(y1_val, svm01os_predictions)\n",
    "svm01os_fpr, svm01os_tpr, thresholds = metrics.roc_curve(y1_val, svm01os_predictions)\n",
    "print \"AUC: %.4g\" % metrics.auc(svm01os_fpr, svm01os_tpr)"
   ]
  },
  {
   "cell_type": "code",
   "execution_count": 120,
   "metadata": {
    "collapsed": true
   },
   "outputs": [],
   "source": [
    "# SMOTE\n",
    "svm01smo = LinearSVC()\n",
    "svm01smo.fit(X1_train_smo, y1_train_smo)\n",
    "svm01smo_predictions = svm01smo.predict(X1_val)"
   ]
  },
  {
   "cell_type": "code",
   "execution_count": 121,
   "metadata": {
    "collapsed": false,
    "scrolled": true
   },
   "outputs": [
    {
     "name": "stdout",
     "output_type": "stream",
     "text": [
      "Accuracy: 0.7612\n",
      "Recall: 0.7583\n",
      "Precision: 0.5117\n",
      "Hinge loss: 0.9914\n",
      "F1 score: 0.6111\n",
      "AUC: 0.7602\n"
     ]
    }
   ],
   "source": [
    "print \"Accuracy: %.4g\" % metrics.accuracy_score(y1_val, svm01smo_predictions, normalize=True)\n",
    "print \"Recall: %.4g\" % metrics.recall_score(y1_val, svm01smo_predictions)\n",
    "print \"Precision: %.4g\" % metrics.precision_score(y1_val, svm01smo_predictions)\n",
    "print \"Hinge loss: %.4g\" % metrics.hinge_loss(y1_val, svm01smo_predictions)\n",
    "print \"F1 score: %.4g\" % metrics.f1_score(y1_val, svm01smo_predictions)\n",
    "svm01smo_fpr, svm01smo_tpr, thresholds = metrics.roc_curve(y1_val, svm01smo_predictions)\n",
    "print \"AUC: %.4g\" % metrics.auc(svm01smo_fpr, svm01smo_tpr)"
   ]
  },
  {
   "cell_type": "code",
   "execution_count": 122,
   "metadata": {
    "collapsed": true
   },
   "outputs": [],
   "source": [
    "# SMOTE borderline 1\n",
    "svm01bs1 = LinearSVC()\n",
    "svm01bs1.fit(X1_train_bs1, y1_train_bs1)\n",
    "svm01bs1_predictions = svm01bs1.predict(X1_val)"
   ]
  },
  {
   "cell_type": "code",
   "execution_count": 123,
   "metadata": {
    "collapsed": false
   },
   "outputs": [
    {
     "name": "stdout",
     "output_type": "stream",
     "text": [
      "Accuracy: 0.7255\n",
      "Recall: 0.7826\n",
      "Precision: 0.4673\n",
      "Hinge loss: 1.027\n",
      "F1 score: 0.5852\n",
      "AUC: 0.7446\n"
     ]
    }
   ],
   "source": [
    "print \"Accuracy: %.4g\" % metrics.accuracy_score(y1_val, svm01bs1_predictions, normalize=True)\n",
    "print \"Recall: %.4g\" % metrics.recall_score(y1_val, svm01bs1_predictions)\n",
    "print \"Precision: %.4g\" % metrics.precision_score(y1_val, svm01bs1_predictions)\n",
    "print \"Hinge loss: %.4g\" % metrics.hinge_loss(y1_val, svm01bs1_predictions)\n",
    "print \"F1 score: %.4g\" % metrics.f1_score(y1_val, svm01bs1_predictions)\n",
    "svm01bs1_fpr, svm01bs1_tpr, thresholds = metrics.roc_curve(y1_val, svm01bs1_predictions)\n",
    "print \"AUC: %.4g\" % metrics.auc(svm01bs1_fpr, svm01bs1_tpr)"
   ]
  },
  {
   "cell_type": "code",
   "execution_count": null,
   "metadata": {
    "collapsed": true
   },
   "outputs": [],
   "source": [
    "# 'Random over-sampling'\n",
    "OS = RandomOverSampler(ratio=ratio, verbose=verbose)\n",
    "X1_train_os, y1_train_os = OS.fit_sample(X1_train, y1_train)\n",
    "\n",
    "# 'SMOTE'\n",
    "smote = SMOTE(ratio=ratio, verbose=verbose, kind='regular')\n",
    "X1_train_smo, y1_train_smo = smote.fit_sample(X1_train, y1_train)\n",
    "\n",
    "# 'SMOTE bordeline 1'\n",
    "bsmote1 = SMOTE(ratio=ratio, verbose=verbose, kind='borderline1')\n",
    "X1_train_bs1, y1_train_bs1 = bsmote1.fit_sample(X1_train, y1_train)\n",
    "\n",
    "# 'SMOTE bordeline 2'\n",
    "bsmote2 = SMOTE(ratio=ratio, verbose=verbose, kind='borderline2')\n",
    "X1_train_bs2, y1_train_bs2 = bsmote2.fit_sample(X1_train, y1_train)\n"
   ]
  },
  {
   "cell_type": "code",
   "execution_count": null,
   "metadata": {
    "collapsed": true
   },
   "outputs": [],
   "source": []
  },
  {
   "cell_type": "code",
   "execution_count": 73,
   "metadata": {
    "collapsed": false
   },
   "outputs": [
    {
     "name": "stdout",
     "output_type": "stream",
     "text": [
      "Accuracy: 0.8206\n",
      "Recall: 0.3687\n",
      "Precision: 0.797\n",
      "Hinge loss: 0.932\n",
      "F1 score: 0.5042\n"
     ]
    }
   ],
   "source": [
    "# Compared to original no over-sampling\n",
    "print \"Accuracy: %.4g\" % metrics.accuracy_score(y1_val, svm01_predictions, normalize=True)\n",
    "print \"Recall: %.4g\" % metrics.recall_score(y1_val, svm01_predictions)\n",
    "print \"Precision: %.4g\" % metrics.precision_score(y1_val, svm01_predictions)\n",
    "print \"Hinge loss: %.4g\" % metrics.hinge_loss(y1_val, svm01_predictions)\n",
    "print \"F1 score: %.4g\" % metrics.f1_score(y1_val, svm01_predictions)"
   ]
  },
  {
   "cell_type": "markdown",
   "metadata": {},
   "source": [
    "### svm01svs = best linear SVM model. Do param grid search on this"
   ]
  },
  {
   "cell_type": "code",
   "execution_count": 78,
   "metadata": {
    "collapsed": false
   },
   "outputs": [
    {
     "data": {
      "text/plain": [
       "GridSearchCV(cv=None, error_score='raise',\n",
       "       estimator=LinearSVC(C=1.0, class_weight=None, dual=True, fit_intercept=True,\n",
       "     intercept_scaling=1, loss='squared_hinge', max_iter=1000,\n",
       "     multi_class='ovr', penalty='l2', random_state=None, tol=0.0001,\n",
       "     verbose=0),\n",
       "       fit_params={}, iid=True, n_jobs=1,\n",
       "       param_grid={'C': [1, 10, 50, 250]}, pre_dispatch='2*n_jobs',\n",
       "       refit=True, scoring=None, verbose=0)"
      ]
     },
     "execution_count": 78,
     "metadata": {},
     "output_type": "execute_result"
    }
   ],
   "source": [
    "param_grid_svm01svs = {'C': [1, 10, 50, 250]}\n",
    "\n",
    "svm01svs_gscv = GridSearchCV(svm01svs, param_grid_svm01svs)\n",
    "svm01svs_gscv.fit(X1_train_val, y1_train_val)"
   ]
  },
  {
   "cell_type": "code",
   "execution_count": 79,
   "metadata": {
    "collapsed": false
   },
   "outputs": [
    {
     "data": {
      "text/plain": [
       "{'C': 1}"
      ]
     },
     "execution_count": 79,
     "metadata": {},
     "output_type": "execute_result"
    }
   ],
   "source": [
    "svm01svs_gscv.best_params_"
   ]
  },
  {
   "cell_type": "code",
   "execution_count": 80,
   "metadata": {
    "collapsed": false,
    "scrolled": true
   },
   "outputs": [
    {
     "data": {
      "text/plain": [
       "0.82825782847304419"
      ]
     },
     "execution_count": 80,
     "metadata": {},
     "output_type": "execute_result"
    }
   ],
   "source": [
    "svm01svs_gscv.best_score_"
   ]
  },
  {
   "cell_type": "code",
   "execution_count": 81,
   "metadata": {
    "collapsed": true
   },
   "outputs": [],
   "source": [
    "svm01b_svs = LinearSVC(C=1)\n",
    "svm01b_svs.fit(X1_train_svs, y1_train_svs)\n",
    "svm01b_svs_predictions = svm01b_svs.predict(X1_val)"
   ]
  },
  {
   "cell_type": "code",
   "execution_count": 82,
   "metadata": {
    "collapsed": false
   },
   "outputs": [
    {
     "name": "stdout",
     "output_type": "stream",
     "text": [
      "Accuracy: 0.7083\n",
      "Recall: 0.8226\n",
      "Precision: 0.4509\n",
      "Hinge loss: 1.044\n",
      "F1 score: 0.5825\n"
     ]
    }
   ],
   "source": [
    "print \"Accuracy: %.4g\" % metrics.accuracy_score(y1_val, svm01b_svs_predictions, normalize=True)\n",
    "print \"Recall: %.4g\" % metrics.recall_score(y1_val, svm01b_svs_predictions)\n",
    "print \"Precision: %.4g\" % metrics.precision_score(y1_val, svm01b_svs_predictions)\n",
    "print \"Hinge loss: %.4g\" % metrics.hinge_loss(y1_val, svm01b_svs_predictions)\n",
    "print \"F1 score: %.4g\" % metrics.f1_score(y1_val, svm01b_svs_predictions)"
   ]
  },
  {
   "cell_type": "markdown",
   "metadata": {},
   "source": [
    "### Best linear SVM model is svm01svo:\n",
    "\n",
    "        Accuracy: 0.7612\n",
    "        Recall: 0.7583\n",
    "        Precision: 0.5117\n",
    "        Hinge loss: 0.9914\n",
    "        F1 score: 0.6111\n",
    "        AUC: 0.7602\n"
   ]
  },
  {
   "cell_type": "markdown",
   "metadata": {},
   "source": [
    "## Non-linear SVM models"
   ]
  },
  {
   "cell_type": "markdown",
   "metadata": {},
   "source": [
    "### non-linear SVM - data 1"
   ]
  },
  {
   "cell_type": "code",
   "execution_count": 60,
   "metadata": {
    "collapsed": false
   },
   "outputs": [],
   "source": [
    "svmnl01 = SVC()\n",
    "svmnl01.fit(X1_train, y1_train)\n",
    "svmnl01_predictions = svmnl01.predict(X1_val)"
   ]
  },
  {
   "cell_type": "code",
   "execution_count": 61,
   "metadata": {
    "collapsed": false
   },
   "outputs": [
    {
     "name": "stdout",
     "output_type": "stream",
     "text": [
      "Accuracy: 0.8305\n",
      "Recall: 0.3948\n",
      "Precision: 0.8315\n",
      "Hinge loss: 0.9221\n",
      "F1 score: 0.5354\n"
     ]
    }
   ],
   "source": [
    "# Using mean retirement age of HOF eligible players\n",
    "print \"Accuracy: %.4g\" % metrics.accuracy_score(y1_val, svmnl01_predictions, normalize=True)\n",
    "print \"Recall: %.4g\" % metrics.recall_score(y1_val, svmnl01_predictions)\n",
    "print \"Precision: %.4g\" % metrics.precision_score(y1_val, svmnl01_predictions)\n",
    "print \"Hinge loss: %.4g\" % metrics.hinge_loss(y1_val, svmnl01_predictions)\n",
    "print \"F1 score: %.4g\" % metrics.f1_score(y1_val, svmnl01_predictions)"
   ]
  },
  {
   "cell_type": "code",
   "execution_count": 132,
   "metadata": {
    "collapsed": false,
    "scrolled": true
   },
   "outputs": [
    {
     "name": "stdout",
     "output_type": "stream",
     "text": [
      "Accuracy: 0.8419\n",
      "Recall: 0.3962\n",
      "Precision: 0.8015\n",
      "Hinge loss: 0.9329\n",
      "F1 score: 0.5303\n"
     ]
    }
   ],
   "source": [
    "# Old\n",
    "# Using mean retirement age of HOF eligible players\n",
    "print \"Accuracy: %.4g\" % metrics.accuracy_score(y1_test, svmnl01_predictions, normalize=True)\n",
    "print \"Recall: %.4g\" % metrics.recall_score(y1_test, svmnl01_predictions)\n",
    "print \"Precision: %.4g\" % metrics.precision_score(y1_test, svmnl01_predictions)\n",
    "print \"Hinge loss: %.4g\" % metrics.hinge_loss(y1_test, svmnl01_predictions)\n",
    "print \"F1 score: %.4g\" % metrics.f1_score(y1_test, svmnl01_predictions)"
   ]
  },
  {
   "cell_type": "markdown",
   "metadata": {},
   "source": [
    "### SVMnl - data 2"
   ]
  },
  {
   "cell_type": "code",
   "execution_count": 62,
   "metadata": {
    "collapsed": false
   },
   "outputs": [],
   "source": [
    "svmnl02 = SVC()\n",
    "svmnl02.fit(X2_train, y2_train)\n",
    "svmnl02_predictions = svmnl02.predict(X2_val)"
   ]
  },
  {
   "cell_type": "code",
   "execution_count": 63,
   "metadata": {
    "collapsed": false
   },
   "outputs": [
    {
     "name": "stdout",
     "output_type": "stream",
     "text": [
      "Accuracy: 0.8236\n",
      "Recall: 0.3861\n",
      "Precision: 0.7957\n",
      "Hinge loss: 0.929\n",
      "F1 score: 0.5199\n"
     ]
    }
   ],
   "source": [
    "# Using mean retirement age of HOF eligible players\n",
    "print \"Accuracy: %.4g\" % metrics.accuracy_score(y2_val, svmnl02_predictions, normalize=True)\n",
    "print \"Recall: %.4g\" % metrics.recall_score(y2_val, svmnl02_predictions)\n",
    "print \"Precision: %.4g\" % metrics.precision_score(y2_val, svmnl02_predictions)\n",
    "print \"Hinge loss: %.4g\" % metrics.hinge_loss(y2_val, svmnl02_predictions)\n",
    "print \"F1 score: %.4g\" % metrics.f1_score(y2_val, svmnl02_predictions)"
   ]
  },
  {
   "cell_type": "code",
   "execution_count": 135,
   "metadata": {
    "collapsed": false
   },
   "outputs": [
    {
     "name": "stdout",
     "output_type": "stream",
     "text": [
      "Accuracy: 0.8417\n",
      "Recall: 0.3962\n",
      "Precision: 0.7995\n",
      "Hinge loss: 0.9332\n",
      "F1 score: 0.5298\n"
     ]
    }
   ],
   "source": [
    "# Old\n",
    "# Using mean retirement age of HOF eligible players\n",
    "print \"Accuracy: %.4g\" % metrics.accuracy_score(y2_test, svmnl02_predictions, normalize=True)\n",
    "print \"Recall: %.4g\" % metrics.recall_score(y2_test, svmnl02_predictions)\n",
    "print \"Precision: %.4g\" % metrics.precision_score(y2_test, svmnl02_predictions)\n",
    "print \"Hinge loss: %.4g\" % metrics.hinge_loss(y2_test, svmnl02_predictions)\n",
    "print \"F1 score: %.4g\" % metrics.f1_score(y2_test, svmnl02_predictions)"
   ]
  },
  {
   "cell_type": "markdown",
   "metadata": {},
   "source": [
    "### non-linear SVM - data 3"
   ]
  },
  {
   "cell_type": "code",
   "execution_count": 85,
   "metadata": {
    "collapsed": true
   },
   "outputs": [],
   "source": [
    "svmnl03 = SVC()\n",
    "svmnl03.fit(X3_train, y3_train)\n",
    "svmnl03_predictions = svmnl03.predict(X3_val)"
   ]
  },
  {
   "cell_type": "code",
   "execution_count": 86,
   "metadata": {
    "collapsed": false
   },
   "outputs": [
    {
     "name": "stdout",
     "output_type": "stream",
     "text": [
      "Accuracy: 0.8244\n",
      "Recall: 0.4104\n",
      "Precision: 0.7738\n",
      "Hinge loss: 0.9281\n",
      "F1 score: 0.5364\n"
     ]
    }
   ],
   "source": [
    "# Using mean retirement age of HOF eligible players\n",
    "print \"Accuracy: %.4g\" % metrics.accuracy_score(y3_val, svmnl03_predictions, normalize=True)\n",
    "print \"Recall: %.4g\" % metrics.recall_score(y3_val, svmnl03_predictions)\n",
    "print \"Precision: %.4g\" % metrics.precision_score(y3_val, svmnl03_predictions)\n",
    "print \"Hinge loss: %.4g\" % metrics.hinge_loss(y3_val, svmnl03_predictions)\n",
    "print \"F1 score: %.4g\" % metrics.f1_score(y3_val, svmnl03_predictions)"
   ]
  },
  {
   "cell_type": "code",
   "execution_count": 11,
   "metadata": {
    "collapsed": false
   },
   "outputs": [
    {
     "name": "stdout",
     "output_type": "stream",
     "text": [
      "Accuracy: 0.8405\n",
      "Recall: 0.4064\n",
      "Precision: 0.78\n",
      "Hinge loss: 0.9343\n",
      "F1 score: 0.5343\n"
     ]
    }
   ],
   "source": [
    "# Using mean retirement age of HOF eligible players\n",
    "print \"Accuracy: %.4g\" % metrics.accuracy_score(y3_test, svmnl03_predictions, normalize=True)\n",
    "print \"Recall: %.4g\" % metrics.recall_score(y3_test, svmnl03_predictions)\n",
    "print \"Precision: %.4g\" % metrics.precision_score(y3_test, svmnl03_predictions)\n",
    "print \"Hinge loss: %.4g\" % metrics.hinge_loss(y3_test, svmnl03_predictions)\n",
    "print \"F1 score: %.4g\" % metrics.f1_score(y3_test, svmnl03_predictions)"
   ]
  },
  {
   "cell_type": "code",
   "execution_count": 139,
   "metadata": {
    "collapsed": false
   },
   "outputs": [],
   "source": [
    "svmnl03b = SVC(kernel='rbf', C=100, class_weight={0:0.5, 1:0.5})\n",
    "svmnl03b.fit(X3_train, y3_train)\n",
    "svmnl03b_predictions = svmnl03b.predict(X3_val)"
   ]
  },
  {
   "cell_type": "code",
   "execution_count": 140,
   "metadata": {
    "collapsed": false
   },
   "outputs": [
    {
     "name": "stdout",
     "output_type": "stream",
     "text": [
      "Accuracy: 0.8847\n",
      "Recall: 0.6939\n",
      "Precision: 0.8126\n",
      "Hinge loss: 0.8679\n",
      "F1 score: 0.7486\n"
     ]
    }
   ],
   "source": [
    "# Using mean retirement age of HOF eligible players\n",
    "print \"Accuracy: %.4g\" % metrics.accuracy_score(y3_val, svmnl03b_predictions, normalize=True)\n",
    "print \"Recall: %.4g\" % metrics.recall_score(y3_val, svmnl03b_predictions)\n",
    "print \"Precision: %.4g\" % metrics.precision_score(y3_val, svmnl03b_predictions)\n",
    "print \"Hinge loss: %.4g\" % metrics.hinge_loss(y3_val, svmnl03b_predictions)\n",
    "print \"F1 score: %.4g\" % metrics.f1_score(y3_val, svmnl03b_predictions)"
   ]
  },
  {
   "cell_type": "code",
   "execution_count": 141,
   "metadata": {
    "collapsed": false
   },
   "outputs": [],
   "source": [
    "svmnl03c = SVC(kernel='rbf', C=200, class_weight={0: 0.75, 1: 0.25})\n",
    "svmnl03c.fit(X3_train, y3_train)\n",
    "svmnl03c_predictions = svmnl03c.predict(X3_val)"
   ]
  },
  {
   "cell_type": "code",
   "execution_count": 142,
   "metadata": {
    "collapsed": false,
    "scrolled": true
   },
   "outputs": [
    {
     "name": "stdout",
     "output_type": "stream",
     "text": [
      "Accuracy: 0.8886\n",
      "Recall: 0.64\n",
      "Precision: 0.8762\n",
      "Hinge loss: 0.864\n",
      "F1 score: 0.7397\n"
     ]
    }
   ],
   "source": [
    "# Using mean retirement age of HOF eligible players\n",
    "print \"Accuracy: %.4g\" % metrics.accuracy_score(y3_val, svmnl03c_predictions, normalize=True)\n",
    "print \"Recall: %.4g\" % metrics.recall_score(y3_val, svmnl03c_predictions)\n",
    "print \"Precision: %.4g\" % metrics.precision_score(y3_val, svmnl03c_predictions)\n",
    "print \"Hinge loss: %.4g\" % metrics.hinge_loss(y3_val, svmnl03c_predictions)\n",
    "print \"F1 score: %.4g\" % metrics.f1_score(y3_val, svmnl03c_predictions)"
   ]
  },
  {
   "cell_type": "code",
   "execution_count": 153,
   "metadata": {
    "collapsed": true
   },
   "outputs": [],
   "source": [
    "svmnl03d = SVC(kernel='rbf', C=500, class_weight={0: 0.75, 1: 0.25})\n",
    "svmnl03d.fit(X3_train, y3_train)\n",
    "svmnl03d_predictions = svmnl03d.predict(X3_val)"
   ]
  },
  {
   "cell_type": "code",
   "execution_count": 154,
   "metadata": {
    "collapsed": false
   },
   "outputs": [
    {
     "name": "stdout",
     "output_type": "stream",
     "text": [
      "Accuracy: 0.8967\n",
      "Recall: 0.7252\n",
      "Precision: 0.8357\n",
      "Hinge loss: 0.8559\n",
      "F1 score: 0.7765\n"
     ]
    }
   ],
   "source": [
    "# Using mean retirement age of HOF eligible players\n",
    "print \"Accuracy: %.4g\" % metrics.accuracy_score(y3_val, svmnl03d_predictions, normalize=True)\n",
    "print \"Recall: %.4g\" % metrics.recall_score(y3_val, svmnl03d_predictions)\n",
    "print \"Precision: %.4g\" % metrics.precision_score(y3_val, svmnl03d_predictions)\n",
    "print \"Hinge loss: %.4g\" % metrics.hinge_loss(y3_val, svmnl03d_predictions)\n",
    "print \"F1 score: %.4g\" % metrics.f1_score(y3_val, svmnl03d_predictions)"
   ]
  },
  {
   "cell_type": "code",
   "execution_count": 145,
   "metadata": {
    "collapsed": true
   },
   "outputs": [],
   "source": [
    "svmnl03e = SVC(kernel='rbf', C=1000, class_weight={0: 0.75, 1: 0.25})\n",
    "svmnl03e.fit(X3_train, y3_train)\n",
    "svmnl03e_predictions = svmnl03e.predict(X3_val)"
   ]
  },
  {
   "cell_type": "code",
   "execution_count": 146,
   "metadata": {
    "collapsed": false
   },
   "outputs": [
    {
     "name": "stdout",
     "output_type": "stream",
     "text": [
      "Accuracy: 0.8877\n",
      "Recall: 0.7374\n",
      "Precision: 0.794\n",
      "Hinge loss: 0.8649\n",
      "F1 score: 0.7647\n"
     ]
    }
   ],
   "source": [
    "# Using mean retirement age of HOF eligible players\n",
    "print \"Accuracy: %.4g\" % metrics.accuracy_score(y3_val, svmnl03e_predictions, normalize=True)\n",
    "print \"Recall: %.4g\" % metrics.recall_score(y3_val, svmnl03e_predictions)\n",
    "print \"Precision: %.4g\" % metrics.precision_score(y3_val, svmnl03e_predictions)\n",
    "print \"Hinge loss: %.4g\" % metrics.hinge_loss(y3_val, svmnl03e_predictions)\n",
    "print \"F1 score: %.4g\" % metrics.f1_score(y3_val, svmnl03e_predictions)"
   ]
  },
  {
   "cell_type": "code",
   "execution_count": 81,
   "metadata": {
    "collapsed": false
   },
   "outputs": [
    {
     "name": "stdout",
     "output_type": "stream",
     "text": [
      "             precision    recall  f1-score   support\n",
      "\n",
      "          0       0.93      0.95      0.94      2701\n",
      "          1       0.83      0.77      0.80       785\n",
      "\n",
      "avg / total       0.91      0.91      0.91      3486\n",
      "\n"
     ]
    }
   ],
   "source": [
    "print classification_report(y3_test, svmnl03e_predictions)"
   ]
  },
  {
   "cell_type": "markdown",
   "metadata": {},
   "source": [
    "### non-linear SVM - data 4"
   ]
  },
  {
   "cell_type": "code",
   "execution_count": 87,
   "metadata": {
    "collapsed": true
   },
   "outputs": [],
   "source": [
    "svmnl04 = SVC()\n",
    "svmnl04.fit(X4_train, y4_train)\n",
    "svmnl04_predictions = svmnl04.predict(X4_val)"
   ]
  },
  {
   "cell_type": "code",
   "execution_count": 88,
   "metadata": {
    "collapsed": false
   },
   "outputs": [
    {
     "name": "stdout",
     "output_type": "stream",
     "text": [
      "Accuracy: 0.8253\n",
      "Recall: 0.4052\n",
      "Precision: 0.7845\n",
      "Hinge loss: 0.9273\n",
      "F1 score: 0.5344\n"
     ]
    }
   ],
   "source": [
    "# Using mean retirement age of HOF eligible players\n",
    "print \"Accuracy: %.4g\" % metrics.accuracy_score(y4_val, svmnl04_predictions, normalize=True)\n",
    "print \"Recall: %.4g\" % metrics.recall_score(y4_val, svmnl04_predictions)\n",
    "print \"Precision: %.4g\" % metrics.precision_score(y4_val, svmnl04_predictions)\n",
    "print \"Hinge loss: %.4g\" % metrics.hinge_loss(y4_val, svmnl04_predictions)\n",
    "print \"F1 score: %.4g\" % metrics.f1_score(y4_val, svmnl04_predictions)"
   ]
  },
  {
   "cell_type": "code",
   "execution_count": 139,
   "metadata": {
    "collapsed": false,
    "scrolled": true
   },
   "outputs": [
    {
     "name": "stdout",
     "output_type": "stream",
     "text": [
      "Accuracy: 0.8396\n",
      "Recall: 0.3962\n",
      "Precision: 0.7854\n",
      "Hinge loss: 0.9352\n",
      "F1 score: 0.5267\n"
     ]
    }
   ],
   "source": [
    "# Old\n",
    "# Using mean retirement age of HOF eligible players\n",
    "print \"Accuracy: %.4g\" % metrics.accuracy_score(y4_test, svmnl04_predictions, normalize=True)\n",
    "print \"Recall: %.4g\" % metrics.recall_score(y4_test, svmnl04_predictions)\n",
    "print \"Precision: %.4g\" % metrics.precision_score(y4_test, svmnl04_predictions)\n",
    "print \"Hinge loss: %.4g\" % metrics.hinge_loss(y4_test, svmnl04_predictions)\n",
    "print \"F1 score: %.4g\" % metrics.f1_score(y4_test, svmnl04_predictions)"
   ]
  },
  {
   "cell_type": "markdown",
   "metadata": {},
   "source": [
    "### non-linear SVM with data 3 gave best F1-score"
   ]
  },
  {
   "cell_type": "markdown",
   "metadata": {},
   "source": [
    "### Do grid search for non-linear model w/ data 3"
   ]
  },
  {
   "cell_type": "code",
   "execution_count": 147,
   "metadata": {
    "collapsed": true
   },
   "outputs": [
    {
     "name": "stderr",
     "output_type": "stream",
     "text": [
      "/Applications/anaconda/lib/python2.7/site-packages/sklearn/utils/class_weight.py:62: DeprecationWarning: The class_weight='auto' heuristic is deprecated in 0.17 in favor of a new heuristic class_weight='balanced'. 'auto' will be removed in 0.19\n",
      "  \" 0.19\", DeprecationWarning)\n",
      "/Applications/anaconda/lib/python2.7/site-packages/sklearn/utils/class_weight.py:62: DeprecationWarning: The class_weight='auto' heuristic is deprecated in 0.17 in favor of a new heuristic class_weight='balanced'. 'auto' will be removed in 0.19\n",
      "  \" 0.19\", DeprecationWarning)\n",
      "/Applications/anaconda/lib/python2.7/site-packages/sklearn/utils/class_weight.py:62: DeprecationWarning: The class_weight='auto' heuristic is deprecated in 0.17 in favor of a new heuristic class_weight='balanced'. 'auto' will be removed in 0.19\n",
      "  \" 0.19\", DeprecationWarning)\n",
      "/Applications/anaconda/lib/python2.7/site-packages/sklearn/utils/class_weight.py:62: DeprecationWarning: The class_weight='auto' heuristic is deprecated in 0.17 in favor of a new heuristic class_weight='balanced'. 'auto' will be removed in 0.19\n",
      "  \" 0.19\", DeprecationWarning)\n",
      "/Applications/anaconda/lib/python2.7/site-packages/sklearn/utils/class_weight.py:62: DeprecationWarning: The class_weight='auto' heuristic is deprecated in 0.17 in favor of a new heuristic class_weight='balanced'. 'auto' will be removed in 0.19\n",
      "  \" 0.19\", DeprecationWarning)\n",
      "/Applications/anaconda/lib/python2.7/site-packages/sklearn/utils/class_weight.py:62: DeprecationWarning: The class_weight='auto' heuristic is deprecated in 0.17 in favor of a new heuristic class_weight='balanced'. 'auto' will be removed in 0.19\n",
      "  \" 0.19\", DeprecationWarning)\n",
      "/Applications/anaconda/lib/python2.7/site-packages/sklearn/utils/class_weight.py:62: DeprecationWarning: The class_weight='auto' heuristic is deprecated in 0.17 in favor of a new heuristic class_weight='balanced'. 'auto' will be removed in 0.19\n",
      "  \" 0.19\", DeprecationWarning)\n",
      "/Applications/anaconda/lib/python2.7/site-packages/sklearn/utils/class_weight.py:62: DeprecationWarning: The class_weight='auto' heuristic is deprecated in 0.17 in favor of a new heuristic class_weight='balanced'. 'auto' will be removed in 0.19\n",
      "  \" 0.19\", DeprecationWarning)\n",
      "/Applications/anaconda/lib/python2.7/site-packages/sklearn/utils/class_weight.py:62: DeprecationWarning: The class_weight='auto' heuristic is deprecated in 0.17 in favor of a new heuristic class_weight='balanced'. 'auto' will be removed in 0.19\n",
      "  \" 0.19\", DeprecationWarning)\n",
      "/Applications/anaconda/lib/python2.7/site-packages/sklearn/utils/class_weight.py:62: DeprecationWarning: The class_weight='auto' heuristic is deprecated in 0.17 in favor of a new heuristic class_weight='balanced'. 'auto' will be removed in 0.19\n",
      "  \" 0.19\", DeprecationWarning)\n",
      "/Applications/anaconda/lib/python2.7/site-packages/sklearn/utils/class_weight.py:62: DeprecationWarning: The class_weight='auto' heuristic is deprecated in 0.17 in favor of a new heuristic class_weight='balanced'. 'auto' will be removed in 0.19\n",
      "  \" 0.19\", DeprecationWarning)\n",
      "/Applications/anaconda/lib/python2.7/site-packages/sklearn/utils/class_weight.py:62: DeprecationWarning: The class_weight='auto' heuristic is deprecated in 0.17 in favor of a new heuristic class_weight='balanced'. 'auto' will be removed in 0.19\n",
      "  \" 0.19\", DeprecationWarning)\n",
      "/Applications/anaconda/lib/python2.7/site-packages/sklearn/utils/class_weight.py:62: DeprecationWarning: The class_weight='auto' heuristic is deprecated in 0.17 in favor of a new heuristic class_weight='balanced'. 'auto' will be removed in 0.19\n",
      "  \" 0.19\", DeprecationWarning)\n",
      "/Applications/anaconda/lib/python2.7/site-packages/sklearn/utils/class_weight.py:62: DeprecationWarning: The class_weight='auto' heuristic is deprecated in 0.17 in favor of a new heuristic class_weight='balanced'. 'auto' will be removed in 0.19\n",
      "  \" 0.19\", DeprecationWarning)\n",
      "/Applications/anaconda/lib/python2.7/site-packages/sklearn/utils/class_weight.py:62: DeprecationWarning: The class_weight='auto' heuristic is deprecated in 0.17 in favor of a new heuristic class_weight='balanced'. 'auto' will be removed in 0.19\n",
      "  \" 0.19\", DeprecationWarning)\n",
      "/Applications/anaconda/lib/python2.7/site-packages/sklearn/utils/class_weight.py:62: DeprecationWarning: The class_weight='auto' heuristic is deprecated in 0.17 in favor of a new heuristic class_weight='balanced'. 'auto' will be removed in 0.19\n",
      "  \" 0.19\", DeprecationWarning)\n",
      "/Applications/anaconda/lib/python2.7/site-packages/sklearn/utils/class_weight.py:62: DeprecationWarning: The class_weight='auto' heuristic is deprecated in 0.17 in favor of a new heuristic class_weight='balanced'. 'auto' will be removed in 0.19\n",
      "  \" 0.19\", DeprecationWarning)\n",
      "/Applications/anaconda/lib/python2.7/site-packages/sklearn/utils/class_weight.py:62: DeprecationWarning: The class_weight='auto' heuristic is deprecated in 0.17 in favor of a new heuristic class_weight='balanced'. 'auto' will be removed in 0.19\n",
      "  \" 0.19\", DeprecationWarning)\n",
      "/Applications/anaconda/lib/python2.7/site-packages/sklearn/utils/class_weight.py:62: DeprecationWarning: The class_weight='auto' heuristic is deprecated in 0.17 in favor of a new heuristic class_weight='balanced'. 'auto' will be removed in 0.19\n",
      "  \" 0.19\", DeprecationWarning)\n",
      "/Applications/anaconda/lib/python2.7/site-packages/sklearn/utils/class_weight.py:62: DeprecationWarning: The class_weight='auto' heuristic is deprecated in 0.17 in favor of a new heuristic class_weight='balanced'. 'auto' will be removed in 0.19\n",
      "  \" 0.19\", DeprecationWarning)\n",
      "/Applications/anaconda/lib/python2.7/site-packages/sklearn/utils/class_weight.py:62: DeprecationWarning: The class_weight='auto' heuristic is deprecated in 0.17 in favor of a new heuristic class_weight='balanced'. 'auto' will be removed in 0.19\n",
      "  \" 0.19\", DeprecationWarning)\n",
      "/Applications/anaconda/lib/python2.7/site-packages/sklearn/utils/class_weight.py:62: DeprecationWarning: The class_weight='auto' heuristic is deprecated in 0.17 in favor of a new heuristic class_weight='balanced'. 'auto' will be removed in 0.19\n",
      "  \" 0.19\", DeprecationWarning)\n",
      "/Applications/anaconda/lib/python2.7/site-packages/sklearn/utils/class_weight.py:62: DeprecationWarning: The class_weight='auto' heuristic is deprecated in 0.17 in favor of a new heuristic class_weight='balanced'. 'auto' will be removed in 0.19\n",
      "  \" 0.19\", DeprecationWarning)\n",
      "/Applications/anaconda/lib/python2.7/site-packages/sklearn/utils/class_weight.py:62: DeprecationWarning: The class_weight='auto' heuristic is deprecated in 0.17 in favor of a new heuristic class_weight='balanced'. 'auto' will be removed in 0.19\n",
      "  \" 0.19\", DeprecationWarning)\n",
      "/Applications/anaconda/lib/python2.7/site-packages/sklearn/utils/class_weight.py:62: DeprecationWarning: The class_weight='auto' heuristic is deprecated in 0.17 in favor of a new heuristic class_weight='balanced'. 'auto' will be removed in 0.19\n",
      "  \" 0.19\", DeprecationWarning)\n",
      "/Applications/anaconda/lib/python2.7/site-packages/sklearn/utils/class_weight.py:62: DeprecationWarning: The class_weight='auto' heuristic is deprecated in 0.17 in favor of a new heuristic class_weight='balanced'. 'auto' will be removed in 0.19\n",
      "  \" 0.19\", DeprecationWarning)\n",
      "/Applications/anaconda/lib/python2.7/site-packages/sklearn/utils/class_weight.py:62: DeprecationWarning: The class_weight='auto' heuristic is deprecated in 0.17 in favor of a new heuristic class_weight='balanced'. 'auto' will be removed in 0.19\n",
      "  \" 0.19\", DeprecationWarning)\n",
      "/Applications/anaconda/lib/python2.7/site-packages/sklearn/utils/class_weight.py:62: DeprecationWarning: The class_weight='auto' heuristic is deprecated in 0.17 in favor of a new heuristic class_weight='balanced'. 'auto' will be removed in 0.19\n",
      "  \" 0.19\", DeprecationWarning)\n",
      "/Applications/anaconda/lib/python2.7/site-packages/sklearn/utils/class_weight.py:62: DeprecationWarning: The class_weight='auto' heuristic is deprecated in 0.17 in favor of a new heuristic class_weight='balanced'. 'auto' will be removed in 0.19\n",
      "  \" 0.19\", DeprecationWarning)\n",
      "/Applications/anaconda/lib/python2.7/site-packages/sklearn/utils/class_weight.py:62: DeprecationWarning: The class_weight='auto' heuristic is deprecated in 0.17 in favor of a new heuristic class_weight='balanced'. 'auto' will be removed in 0.19\n",
      "  \" 0.19\", DeprecationWarning)\n"
     ]
    },
    {
     "data": {
      "text/plain": [
       "GridSearchCV(cv=None, error_score='raise',\n",
       "       estimator=SVC(C=1.0, cache_size=200, class_weight=None, coef0=0.0,\n",
       "  decision_function_shape=None, degree=3, gamma='auto', kernel='rbf',\n",
       "  max_iter=-1, probability=False, random_state=None, shrinking=True,\n",
       "  tol=0.001, verbose=False),\n",
       "       fit_params={}, iid=True, n_jobs=1,\n",
       "       param_grid={'kernel': ['rbf', 'sigmoid'], 'C': [1, 10, 50, 250, 500], 'class_weight': ['auto', {0: 0.75, 1: 0.25}, {0: 0.5, 1: 0.5}]},\n",
       "       pre_dispatch='2*n_jobs', refit=True, scoring='f1', verbose=0)"
      ]
     },
     "execution_count": 147,
     "metadata": {},
     "output_type": "execute_result"
    }
   ],
   "source": [
    "param_grid_svmnl03 = {'C': [1, 10, 50, 250, 500], 'kernel': ['rbf', 'sigmoid'], \n",
    "                        'class_weight': ['auto', {0:0.75, 1:0.25}, {0: 0.5, 1: 0.5}]}\n",
    "\n",
    "svmnl03_gscv = GridSearchCV(svmnl03, param_grid_svmnl03, scoring='f1')\n",
    "svmnl03_gscv.fit(X3_train, y3_train)"
   ]
  },
  {
   "cell_type": "code",
   "execution_count": 148,
   "metadata": {
    "collapsed": false
   },
   "outputs": [
    {
     "data": {
      "text/plain": [
       "{'C': 50, 'class_weight': {0: 0.5, 1: 0.5}, 'kernel': 'rbf'}"
      ]
     },
     "execution_count": 148,
     "metadata": {},
     "output_type": "execute_result"
    }
   ],
   "source": [
    "svmnl03_gscv.best_params_"
   ]
  },
  {
   "cell_type": "code",
   "execution_count": 126,
   "metadata": {
    "collapsed": false,
    "scrolled": true
   },
   "outputs": [
    {
     "data": {
      "text/plain": [
       "{'C': 50, 'class_weight': {0: 0.5, 1: 0.5}, 'kernel': 'rbf'}"
      ]
     },
     "execution_count": 126,
     "metadata": {},
     "output_type": "execute_result"
    }
   ],
   "source": [
    "svmnl03_gscv.best_params_"
   ]
  },
  {
   "cell_type": "markdown",
   "metadata": {},
   "source": [
    "#### svmnl03f"
   ]
  },
  {
   "cell_type": "code",
   "execution_count": 151,
   "metadata": {
    "collapsed": true
   },
   "outputs": [],
   "source": [
    "# Use grid-search best params\n",
    "svmnl03f = SVC(kernel='rbf', C=500, class_weight={0: 0.5, 1: 0.5})\n",
    "#{'C': 50, 'class_weight': {0: 0.5, 1: 0.5}, 'kernel': 'rbf'}\n",
    "svmnl03f.fit(X3_train, y3_train)\n",
    "svmnl03f_predictions = svmnl03f.predict(X3_val)"
   ]
  },
  {
   "cell_type": "code",
   "execution_count": 152,
   "metadata": {
    "collapsed": false,
    "scrolled": true
   },
   "outputs": [
    {
     "name": "stdout",
     "output_type": "stream",
     "text": [
      "Accuracy: 0.8898\n",
      "Recall: 0.7635\n",
      "Precision: 0.7853\n",
      "Hinge loss: 0.8627\n",
      "F1 score: 0.7743\n"
     ]
    }
   ],
   "source": [
    "# Using mean retirement age of HOF eligible players\n",
    "print \"Accuracy: %.4g\" % metrics.accuracy_score(y3_val, svmnl03f_predictions, normalize=True)\n",
    "print \"Recall: %.4g\" % metrics.recall_score(y3_val, svmnl03f_predictions)\n",
    "print \"Precision: %.4g\" % metrics.precision_score(y3_val, svmnl03f_predictions)\n",
    "print \"Hinge loss: %.4g\" % metrics.hinge_loss(y3_val, svmnl03f_predictions)\n",
    "print \"F1 score: %.4g\" % metrics.f1_score(y3_val, svmnl03f_predictions)"
   ]
  },
  {
   "cell_type": "markdown",
   "metadata": {},
   "source": [
    "### svmnl03d yields best f1 score."
   ]
  },
  {
   "cell_type": "markdown",
   "metadata": {},
   "source": [
    "### Cross-validation"
   ]
  },
  {
   "cell_type": "code",
   "execution_count": 155,
   "metadata": {
    "collapsed": false
   },
   "outputs": [
    {
     "name": "stdout",
     "output_type": "stream",
     "text": [
      "Accuracy cv: 0.8953\n",
      "Recall cv: 0.7083\n",
      "Precision cv: 0.8227\n",
      "F1 score cv: 0.7609\n"
     ]
    }
   ],
   "source": [
    "print \"Accuracy cv: %.4g\" % cross_val_score(svmnl03d, X3_train_val, y3_train_val, cv=5).mean()\n",
    "print \"Recall cv: %.4g\" % cross_val_score(svmnl03d, X3_train_val, y3_train_val, cv=5, scoring='recall').mean()\n",
    "print \"Precision cv: %.4g\" % cross_val_score(svmnl03d, X3_train_val, y3_train_val, cv=5, scoring='precision').mean()\n",
    "print \"F1 score cv: %.4g\" % cross_val_score(svmnl03d, X3_train_val, y3_train_val, cv=5, scoring='f1').mean()\n"
   ]
  },
  {
   "cell_type": "code",
   "execution_count": 132,
   "metadata": {
    "collapsed": false
   },
   "outputs": [
    {
     "name": "stdout",
     "output_type": "stream",
     "text": [
      "Accuracy cv: 0.8923\n",
      "Recall cv: 0.7485\n",
      "Precision cv: 0.7846\n",
      "F1 score cv: 0.7659\n"
     ]
    }
   ],
   "source": [
    "print \"Accuracy cv: %.4g\" % cross_val_score(svmnl03f, X3_train_val, y3_train_val, cv=5).mean()\n",
    "print \"Recall cv: %.4g\" % cross_val_score(svmnl03f, X3_train_val, y3_train_val, cv=5, scoring='recall').mean()\n",
    "print \"Precision cv: %.4g\" % cross_val_score(svmnl03f, X3_train_val, y3_train_val, cv=5, scoring='precision').mean()\n",
    "print \"F1 score cv: %.4g\" % cross_val_score(svmnl03f, X3_train_val, y3_train_val, cv=5, scoring='f1').mean()\n"
   ]
  },
  {
   "cell_type": "markdown",
   "metadata": {},
   "source": [
    "### Train on all training data"
   ]
  },
  {
   "cell_type": "code",
   "execution_count": 156,
   "metadata": {
    "collapsed": true
   },
   "outputs": [],
   "source": [
    "# Use grid-search best params\n",
    "svmnl03d2 = SVC(kernel='rbf', C=500, class_weight={0: 0.75, 1: 0.5})\n",
    "#{'C': 50, 'class_weight': {0: 0.5, 1: 0.5}, 'kernel': 'rbf'}\n",
    "svmnl03d2.fit(X3_train_val, y3_train_val)\n",
    "svmnl03d2_predictions = svmnl03d2.predict(X3_holdout)"
   ]
  },
  {
   "cell_type": "code",
   "execution_count": 157,
   "metadata": {
    "collapsed": false
   },
   "outputs": [
    {
     "name": "stdout",
     "output_type": "stream",
     "text": [
      "Accuracy: 0.9208\n",
      "Recall: 0.7694\n",
      "Precision: 0.8505\n",
      "Hinge loss: 0.8627\n",
      "F1 score: 0.8079\n"
     ]
    }
   ],
   "source": [
    "# Using mean retirement age of HOF eligible players\n",
    "print \"Accuracy: %.4g\" % metrics.accuracy_score(y3_holdout, svmnl03d2_predictions, normalize=True)\n",
    "print \"Recall: %.4g\" % metrics.recall_score(y3_holdout, svmnl03d2_predictions)\n",
    "print \"Precision: %.4g\" % metrics.precision_score(y3_holdout, svmnl03d2_predictions)\n",
    "print \"Hinge loss: %.4g\" % metrics.hinge_loss(y3_holdout, svmnl03d2_predictions)\n",
    "print \"F1 score: %.4g\" % metrics.f1_score(y3_holdout, svmnl03d2_predictions)"
   ]
  },
  {
   "cell_type": "code",
   "execution_count": 135,
   "metadata": {
    "collapsed": true
   },
   "outputs": [],
   "source": [
    "# Use grid-search best params\n",
    "svmnl03f2 = SVC(kernel='rbf', C=500, class_weight={0: 0.5, 1: 0.5})\n",
    "#{'C': 50, 'class_weight': {0: 0.5, 1: 0.5}, 'kernel': 'rbf'}\n",
    "svmnl03f2.fit(X3_train_val, y3_train_val)\n",
    "svmnl03f2_predictions = svmnl03f2.predict(X3_holdout)"
   ]
  },
  {
   "cell_type": "code",
   "execution_count": 136,
   "metadata": {
    "collapsed": false
   },
   "outputs": [
    {
     "name": "stdout",
     "output_type": "stream",
     "text": [
      "Accuracy: 0.9144\n",
      "Recall: 0.7773\n",
      "Precision: 0.818\n",
      "Hinge loss: 0.8692\n",
      "F1 score: 0.7971\n"
     ]
    }
   ],
   "source": [
    "# Using mean retirement age of HOF eligible players\n",
    "print \"Accuracy: %.4g\" % metrics.accuracy_score(y3_holdout, svmnl03f2_predictions, normalize=True)\n",
    "print \"Recall: %.4g\" % metrics.recall_score(y3_holdout, svmnl03f2_predictions)\n",
    "print \"Precision: %.4g\" % metrics.precision_score(y3_holdout, svmnl03f2_predictions)\n",
    "print \"Hinge loss: %.4g\" % metrics.hinge_loss(y3_holdout, svmnl03f2_predictions)\n",
    "print \"F1 score: %.4g\" % metrics.f1_score(y3_holdout, svmnl03f2_predictions)"
   ]
  },
  {
   "cell_type": "code",
   "execution_count": 49,
   "metadata": {
    "collapsed": false,
    "scrolled": true
   },
   "outputs": [
    {
     "name": "stdout",
     "output_type": "stream",
     "text": [
      "Accuracy: 0.9114\n",
      "Recall: 0.7656\n",
      "Precision: 0.8278\n",
      "Hinge loss: 0.8635\n",
      "F1 score: 0.7955\n"
     ]
    }
   ],
   "source": [
    "# Using mean retirement age of HOF eligible players\n",
    "print \"Accuracy: %.4g\" % metrics.accuracy_score(y3_test, svmnl03e_predictions, normalize=True)\n",
    "print \"Recall: %.4g\" % metrics.recall_score(y3_test, svmnl03e_predictions)\n",
    "print \"Precision: %.4g\" % metrics.precision_score(y3_test, svmnl03e_predictions)\n",
    "print \"Hinge loss: %.4g\" % metrics.hinge_loss(y3_test, svmnl03e_predictions)\n",
    "print \"F1 score: %.4g\" % metrics.f1_score(y3_test, svmnl03e_predictions)"
   ]
  },
  {
   "cell_type": "markdown",
   "metadata": {},
   "source": [
    "### Grid search results don't seem to yield optimal params. smnl03f (using grid search results) is not as good as smnl03e (optimized manually) "
   ]
  },
  {
   "cell_type": "code",
   "execution_count": 137,
   "metadata": {
    "collapsed": true
   },
   "outputs": [],
   "source": [
    "# Continue to optimize manually. This is optimum so far\n",
    "svmnl03g = SVC(kernel='rbf', C=1000, class_weight={0: 0.75, 1: 0.25})\n",
    "# class_weight={0: 0.75, 1: 0.25}\n",
    "svmnl03g.fit(X3_train, y3_train)\n",
    "svmnl03g_predictions = svmnl03g.predict(X3_val)"
   ]
  },
  {
   "cell_type": "code",
   "execution_count": 138,
   "metadata": {
    "collapsed": false,
    "scrolled": true
   },
   "outputs": [
    {
     "name": "stdout",
     "output_type": "stream",
     "text": [
      "Accuracy: 0.8877\n",
      "Recall: 0.7374\n",
      "Precision: 0.794\n",
      "Hinge loss: 0.8649\n",
      "F1 score: 0.7647\n"
     ]
    }
   ],
   "source": [
    "# Using mean retirement age of HOF eligible players\n",
    "print \"Accuracy: %.4g\" % metrics.accuracy_score(y3_val, svmnl03g_predictions, normalize=True)\n",
    "print \"Recall: %.4g\" % metrics.recall_score(y3_val, svmnl03g_predictions)\n",
    "print \"Precision: %.4g\" % metrics.precision_score(y3_val, svmnl03g_predictions)\n",
    "print \"Hinge loss: %.4g\" % metrics.hinge_loss(y3_val, svmnl03g_predictions)\n",
    "print \"F1 score: %.4g\" % metrics.f1_score(y3_val, svmnl03g_predictions)"
   ]
  },
  {
   "cell_type": "markdown",
   "metadata": {},
   "source": [
    "### Best non-linear cv model = smnl03d\n",
    "\n",
    "        Accuracy cv: 0.8953\n",
    "        Recall cv: 0.7083\n",
    "        Precision cv: 0.8227\n",
    "        F1 score cv: 0.7609"
   ]
  },
  {
   "cell_type": "markdown",
   "metadata": {},
   "source": [
    "## Logistic regression"
   ]
  },
  {
   "cell_type": "markdown",
   "metadata": {},
   "source": [
    "### Logistic regression model  - data 1"
   ]
  },
  {
   "cell_type": "code",
   "execution_count": 176,
   "metadata": {
    "collapsed": false
   },
   "outputs": [],
   "source": [
    "logr01 = LogisticRegression(n_jobs=-1)\n",
    "logr01.fit(X1_train, y1_train)\n",
    "logr01_predictions = logr01.predict(X1_val)"
   ]
  },
  {
   "cell_type": "code",
   "execution_count": 177,
   "metadata": {
    "collapsed": false,
    "scrolled": true
   },
   "outputs": [
    {
     "name": "stdout",
     "output_type": "stream",
     "text": [
      "Accuracy: 0.827\n",
      "Recall: 0.4087\n",
      "Precision: 0.7912\n",
      "Hinge loss: 0.9256\n",
      "F1 score: 0.539\n"
     ]
    }
   ],
   "source": [
    "# Using mean retirement age of HOF eligible players\n",
    "print \"Accuracy: %.4g\" % metrics.accuracy_score(y1_val, logr01_predictions, normalize=True)\n",
    "print \"Recall: %.4g\" % metrics.recall_score(y1_val, logr01_predictions)\n",
    "print \"Precision: %.4g\" % metrics.precision_score(y1_val, logr01_predictions)\n",
    "print \"Hinge loss: %.4g\" % metrics.hinge_loss(y1_val, logr01_predictions)\n",
    "print \"F1 score: %.4g\" % metrics.f1_score(y1_val, logr01_predictions)"
   ]
  },
  {
   "cell_type": "code",
   "execution_count": 170,
   "metadata": {
    "collapsed": false
   },
   "outputs": [
    {
     "name": "stdout",
     "output_type": "stream",
     "text": [
      "Accuracy cv: 0.8337\n",
      "Recall cv: 0.4307\n",
      "Precision cv: 0.7592\n",
      "F1 score cv: 0.5493\n"
     ]
    }
   ],
   "source": [
    "# CV\n",
    "print \"Accuracy cv: %.4g\" % cross_val_score(logr01, X1_train_val, y1_train_val, cv=5).mean()\n",
    "print \"Recall cv: %.4g\" % cross_val_score(logr01, X1_train_val, y1_train_val, cv=5, scoring='recall').mean()\n",
    "print \"Precision cv: %.4g\" % cross_val_score(logr01, X1_train_val, y1_train_val, cv=5, scoring='precision').mean()\n",
    "print \"F1 score cv: %.4g\" % cross_val_score(logr01, X1_train_val, y1_train_val, cv=5, scoring='f1').mean()\n"
   ]
  },
  {
   "cell_type": "markdown",
   "metadata": {},
   "source": [
    "### Logistic regression model - data 2"
   ]
  },
  {
   "cell_type": "code",
   "execution_count": 164,
   "metadata": {
    "collapsed": false
   },
   "outputs": [],
   "source": [
    "logr02 = LogisticRegression()\n",
    "logr02.fit(X2_train, y2_train)\n",
    "logr02_predictions = logr02.predict(X2_val)"
   ]
  },
  {
   "cell_type": "code",
   "execution_count": 165,
   "metadata": {
    "collapsed": false,
    "scrolled": true
   },
   "outputs": [
    {
     "name": "stdout",
     "output_type": "stream",
     "text": [
      "Accuracy: 0.8219\n",
      "Recall: 0.4122\n",
      "Precision: 0.7572\n",
      "Hinge loss: 0.9307\n",
      "F1 score: 0.5338\n"
     ]
    }
   ],
   "source": [
    "# Using mean retirement age of HOF eligible players\n",
    "print \"Accuracy: %.4g\" % metrics.accuracy_score(y2_val, logr02_predictions, normalize=True)\n",
    "print \"Recall: %.4g\" % metrics.recall_score(y2_val, logr02_predictions)\n",
    "print \"Precision: %.4g\" % metrics.precision_score(y2_val, logr02_predictions)\n",
    "print \"Hinge loss: %.4g\" % metrics.hinge_loss(y2_val, logr02_predictions)\n",
    "print \"F1 score: %.4g\" % metrics.f1_score(y2_val, logr02_predictions)"
   ]
  },
  {
   "cell_type": "code",
   "execution_count": 171,
   "metadata": {
    "collapsed": false
   },
   "outputs": [
    {
     "name": "stdout",
     "output_type": "stream",
     "text": [
      "Accuracy cv: 0.8293\n",
      "Recall cv: 0.4289\n",
      "Precision cv: 0.7366\n",
      "F1 score cv: 0.5418\n"
     ]
    }
   ],
   "source": [
    "# CV\n",
    "print \"Accuracy cv: %.4g\" % cross_val_score(logr02, X2_train_val, y2_train_val, cv=5).mean()\n",
    "print \"Recall cv: %.4g\" % cross_val_score(logr02, X2_train_val, y2_train_val, cv=5, scoring='recall').mean()\n",
    "print \"Precision cv: %.4g\" % cross_val_score(logr02, X2_train_val, y2_train_val, cv=5, scoring='precision').mean()\n",
    "print \"F1 score cv: %.4g\" % cross_val_score(logr02, X2_train_val, y2_train_val, cv=5, scoring='f1').mean()\n"
   ]
  },
  {
   "cell_type": "markdown",
   "metadata": {},
   "source": [
    "### Logistic regression - data 3"
   ]
  },
  {
   "cell_type": "code",
   "execution_count": 167,
   "metadata": {
    "collapsed": true
   },
   "outputs": [],
   "source": [
    "logr03 = LogisticRegression()\n",
    "logr03.fit(X3_train, y3_train)\n",
    "logr03_predictions = logr03.predict(X3_val)"
   ]
  },
  {
   "cell_type": "code",
   "execution_count": 168,
   "metadata": {
    "collapsed": false,
    "scrolled": true
   },
   "outputs": [
    {
     "name": "stdout",
     "output_type": "stream",
     "text": [
      "Accuracy: 0.8257\n",
      "Recall: 0.4261\n",
      "Precision: 0.7656\n",
      "Hinge loss: 0.9269\n",
      "F1 score: 0.5475\n"
     ]
    }
   ],
   "source": [
    "# Using mean retirement age of HOF eligible players\n",
    "print \"Accuracy: %.4g\" % metrics.accuracy_score(y3_val, logr03_predictions, normalize=True)\n",
    "print \"Recall: %.4g\" % metrics.recall_score(y3_val, logr03_predictions)\n",
    "print \"Precision: %.4g\" % metrics.precision_score(y3_val, logr03_predictions)\n",
    "print \"Hinge loss: %.4g\" % metrics.hinge_loss(y3_val, logr03_predictions)\n",
    "print \"F1 score: %.4g\" % metrics.f1_score(y3_val, logr03_predictions)"
   ]
  },
  {
   "cell_type": "code",
   "execution_count": 172,
   "metadata": {
    "collapsed": false
   },
   "outputs": [
    {
     "name": "stdout",
     "output_type": "stream",
     "text": [
      "Accuracy cv: 0.8329\n",
      "Recall cv: 0.4202\n",
      "Precision cv: 0.7491\n",
      "F1 score cv: 0.533\n"
     ]
    }
   ],
   "source": [
    "# CV\n",
    "print \"Accuracy cv: %.4g\" % cross_val_score(logr03, X3_train_val, y3_train_val, cv=5).mean()\n",
    "print \"Recall cv: %.4g\" % cross_val_score(logr03, X3_train_val, y3_train_val, cv=5, scoring='recall').mean()\n",
    "print \"Precision cv: %.4g\" % cross_val_score(logr03, X3_train_val, y3_train_val, cv=5, scoring='precision').mean()\n",
    "print \"F1 score cv: %.4g\" % cross_val_score(logr03, X3_train_val, y3_train_val, cv=5, scoring='f1').mean()\n"
   ]
  },
  {
   "cell_type": "markdown",
   "metadata": {},
   "source": [
    "### Logistic regression - data 4"
   ]
  },
  {
   "cell_type": "code",
   "execution_count": 174,
   "metadata": {
    "collapsed": false
   },
   "outputs": [],
   "source": [
    "logr04 = LogisticRegressionCV()\n",
    "logr04.fit(X4_train, y4_train)\n",
    "logr04_predictions = logr04.predict(X4_val)"
   ]
  },
  {
   "cell_type": "code",
   "execution_count": 68,
   "metadata": {
    "collapsed": false,
    "scrolled": true
   },
   "outputs": [
    {
     "name": "stdout",
     "output_type": "stream",
     "text": [
      "Accuracy: 0.8259\n",
      "Recall: 0.3656\n",
      "Precision: 0.7247\n",
      "Hinge loss: 0.9489\n",
      "F1 score: 0.486\n"
     ]
    }
   ],
   "source": [
    "# Using mean retirement age of HOF eligible players\n",
    "print \"Accuracy: %.4g\" % metrics.accuracy_score(y4_test, logr04_predictions, normalize=True)\n",
    "print \"Recall: %.4g\" % metrics.recall_score(y4_test, logr04_predictions)\n",
    "print \"Precision: %.4g\" % metrics.precision_score(y4_test, logr04_predictions)\n",
    "print \"Hinge loss: %.4g\" % metrics.hinge_loss(y4_test, logr04_predictions)\n",
    "print \"F1 score: %.4g\" % metrics.f1_score(y4_test, logr04_predictions)"
   ]
  },
  {
   "cell_type": "code",
   "execution_count": 175,
   "metadata": {
    "collapsed": false
   },
   "outputs": [
    {
     "name": "stdout",
     "output_type": "stream",
     "text": [
      "Accuracy cv: 0.8316\n",
      "Recall cv: 0.4376\n",
      "Precision cv: 0.7401\n",
      "F1 score cv: 0.5417\n"
     ]
    }
   ],
   "source": [
    "# CV\n",
    "print \"Accuracy cv: %.4g\" % cross_val_score(logr04, X4_train_val, y4_train_val, cv=5).mean()\n",
    "print \"Recall cv: %.4g\" % cross_val_score(logr04, X4_train_val, y4_train_val, cv=5, scoring='recall').mean()\n",
    "print \"Precision cv: %.4g\" % cross_val_score(logr04, X4_train_val, y4_train_val, cv=5, scoring='precision').mean()\n",
    "print \"F1 score cv: %.4g\" % cross_val_score(logr04, X4_train_val, y4_train_val, cv=5, scoring='f1').mean()\n"
   ]
  },
  {
   "cell_type": "markdown",
   "metadata": {},
   "source": [
    "### Data 1 yields the best logistic regression model\n",
    "### Do grid search on this model"
   ]
  },
  {
   "cell_type": "code",
   "execution_count": null,
   "metadata": {
    "collapsed": false
   },
   "outputs": [],
   "source": [
    "param_grid_logr01 = {'C': [0.1, 1, 10, 100], 'solver': ['newton-cg', 'lbfgs', 'liblinear', 'sag'], \n",
    "                     'class_weight': [None, 'auto']}\n",
    "\n",
    "logr01_gscv = GridSearchCV(logr01, param_grid_logr01)\n",
    "logr01_gscv.fit(X3_train_val, y3_train_val)"
   ]
  },
  {
   "cell_type": "markdown",
   "metadata": {},
   "source": [
    "### Random Forest models"
   ]
  },
  {
   "cell_type": "code",
   "execution_count": null,
   "metadata": {
    "collapsed": true
   },
   "outputs": [],
   "source": []
  },
  {
   "cell_type": "code",
   "execution_count": 38,
   "metadata": {
    "collapsed": false
   },
   "outputs": [],
   "source": [
    "rf01 = RandomForestClassifier(n_estimators=200)\n",
    "rf01.fit(X1_train, y1_train)\n",
    "rf01_predictions = rf01.predict(X1_test)"
   ]
  },
  {
   "cell_type": "code",
   "execution_count": 39,
   "metadata": {
    "collapsed": false
   },
   "outputs": [
    {
     "name": "stdout",
     "output_type": "stream",
     "text": [
      "Accuracy: 0.9142\n",
      "Recall: 0.6815\n",
      "Precision: 0.9161\n",
      "Hinge loss: 0.8606\n",
      "F1 score: 0.7816\n"
     ]
    }
   ],
   "source": [
    "# Using mean retirement age of HOF eligible players\n",
    "print \"Accuracy: %.4g\" % metrics.accuracy_score(y1_test, rf01_predictions, normalize=True)\n",
    "print \"Recall: %.4g\" % metrics.recall_score(y1_test, rf01_predictions)\n",
    "print \"Precision: %.4g\" % metrics.precision_score(y1_test, rf01_predictions)\n",
    "print \"Hinge loss: %.4g\" % metrics.hinge_loss(y1_test, rf01_predictions)\n",
    "print \"F1 score: %.4g\" % metrics.f1_score(y1_test, rf01_predictions)"
   ]
  },
  {
   "cell_type": "code",
   "execution_count": 88,
   "metadata": {
    "collapsed": false
   },
   "outputs": [
    {
     "name": "stdout",
     "output_type": "stream",
     "text": [
      "Accuracy: 0.8603\n",
      "Recall: 0.4739\n",
      "Precision: 0.8341\n",
      "Hinge loss: 0.9145\n",
      "F1 score: 0.6044\n"
     ]
    }
   ],
   "source": [
    "# Using mean retirement age of all MLB players\n",
    "print \"Accuracy: %.4g\" % metrics.accuracy_score(y1_test, rf01_predictions, normalize=True)\n",
    "print \"Recall: %.4g\" % metrics.recall_score(y1_test, rf01_predictions)\n",
    "print \"Precision: %.4g\" % metrics.precision_score(y1_test, rf01_predictions)\n",
    "print \"Hinge loss: %.4g\" % metrics.hinge_loss(y1_test, rf01_predictions)\n",
    "print \"F1 score: %.4g\" % metrics.f1_score(y1_test, rf01_predictions)"
   ]
  },
  {
   "cell_type": "markdown",
   "metadata": {},
   "source": [
    "### RF model with class_weight set to auto"
   ]
  },
  {
   "cell_type": "code",
   "execution_count": 44,
   "metadata": {
    "collapsed": false
   },
   "outputs": [],
   "source": [
    "rf01b = RandomForestClassifier(n_estimators=200, class_weight='auto')\n",
    "rf01b.fit(X1_train, y1_train)\n",
    "rf01b_predictions = rf01b.predict(X1_test)"
   ]
  },
  {
   "cell_type": "code",
   "execution_count": 50,
   "metadata": {
    "collapsed": false
   },
   "outputs": [
    {
     "name": "stdout",
     "output_type": "stream",
     "text": [
      "Accuracy: 0.9142\n",
      "Recall: 0.6726\n",
      "Precision: 0.9263\n",
      "Hinge loss: 0.8606\n",
      "F1 score: 0.7793\n"
     ]
    }
   ],
   "source": [
    "# Using mean retirement age of HOF eligible players\n",
    "print \"Accuracy: %.4g\" % metrics.accuracy_score(y1_test, rf01b_predictions, normalize=True)\n",
    "print \"Recall: %.4g\" % metrics.recall_score(y1_test, rf01b_predictions)\n",
    "print \"Precision: %.4g\" % metrics.precision_score(y1_test, rf01b_predictions)\n",
    "print \"Hinge loss: %.4g\" % metrics.hinge_loss(y1_test, rf01b_predictions)\n",
    "print \"F1 score: %.4g\" % metrics.f1_score(y1_test, rf01b_predictions)"
   ]
  },
  {
   "cell_type": "code",
   "execution_count": 87,
   "metadata": {
    "collapsed": false
   },
   "outputs": [
    {
     "name": "stdout",
     "output_type": "stream",
     "text": [
      "Accuracy: 0.8635\n",
      "Recall: 0.4815\n",
      "Precision: 0.8456\n",
      "Hinge loss: 0.9114\n",
      "F1 score: 0.6136\n"
     ]
    }
   ],
   "source": [
    "# Using mean retirement age of all MLB players\n",
    "print \"Accuracy: %.4g\" % metrics.accuracy_score(y1_test, rf01b_predictions, normalize=True)\n",
    "print \"Recall: %.4g\" % metrics.recall_score(y1_test, rf01b_predictions)\n",
    "print \"Precision: %.4g\" % metrics.precision_score(y1_test, rf01b_predictions)\n",
    "print \"Hinge loss: %.4g\" % metrics.hinge_loss(y1_test, rf01b_predictions)\n",
    "print \"F1 score: %.4g\" % metrics.f1_score(y1_test, rf01b_predictions)"
   ]
  },
  {
   "cell_type": "code",
   "execution_count": 128,
   "metadata": {
    "collapsed": false
   },
   "outputs": [
    {
     "data": {
      "text/plain": [
       "array([[2654,   47],\n",
       "       [ 258,  527]])"
      ]
     },
     "execution_count": 128,
     "metadata": {},
     "output_type": "execute_result"
    }
   ],
   "source": [
    "confusion_matrix(y_test, rf01_predictions)"
   ]
  },
  {
   "cell_type": "code",
   "execution_count": 46,
   "metadata": {
    "collapsed": true
   },
   "outputs": [],
   "source": [
    "pd.options.display.max_columns = 150\n",
    "pd.options.display.max_rows = 150"
   ]
  },
  {
   "cell_type": "markdown",
   "metadata": {},
   "source": [
    "### RF model 2"
   ]
  },
  {
   "cell_type": "code",
   "execution_count": 46,
   "metadata": {
    "collapsed": true
   },
   "outputs": [],
   "source": [
    "rf02 = RandomForestClassifier(n_estimators=200)\n",
    "rf02.fit(X2_train, y2_train)\n",
    "rf02_predictions = rf02.predict(X2_test)"
   ]
  },
  {
   "cell_type": "code",
   "execution_count": 47,
   "metadata": {
    "collapsed": false
   },
   "outputs": [
    {
     "name": "stdout",
     "output_type": "stream",
     "text": [
      "Accuracy: 0.9157\n",
      "Recall: 0.6841\n",
      "Precision: 0.9211\n",
      "Hinge loss: 0.8592\n",
      "F1 score: 0.7851\n"
     ]
    }
   ],
   "source": [
    "# Using mean retirement age of HOF eligible players\n",
    "print \"Accuracy: %.4g\" % metrics.accuracy_score(y2_test, rf02_predictions, normalize=True)\n",
    "print \"Recall: %.4g\" % metrics.recall_score(y2_test, rf02_predictions)\n",
    "print \"Precision: %.4g\" % metrics.precision_score(y2_test, rf02_predictions)\n",
    "print \"Hinge loss: %.4g\" % metrics.hinge_loss(y2_test, rf02_predictions)\n",
    "print \"F1 score: %.4g\" % metrics.f1_score(y2_test, rf02_predictions)"
   ]
  },
  {
   "cell_type": "code",
   "execution_count": 86,
   "metadata": {
    "collapsed": false
   },
   "outputs": [
    {
     "name": "stdout",
     "output_type": "stream",
     "text": [
      "Accuracy: 0.8789\n",
      "Recall: 0.5682\n",
      "Precision: 0.8431\n",
      "Hinge loss: 0.8959\n",
      "F1 score: 0.6788\n"
     ]
    }
   ],
   "source": [
    "# Using mean retirement age of all MLB players\n",
    "print \"Accuracy: %.4g\" % metrics.accuracy_score(y2_test, rf02_predictions, normalize=True)\n",
    "print \"Recall: %.4g\" % metrics.recall_score(y2_test, rf02_predictions)\n",
    "print \"Precision: %.4g\" % metrics.precision_score(y2_test, rf02_predictions)\n",
    "print \"Hinge loss: %.4g\" % metrics.hinge_loss(y2_test, rf02_predictions)\n",
    "print \"F1 score: %.4g\" % metrics.f1_score(y2_test, rf02_predictions)"
   ]
  },
  {
   "cell_type": "code",
   "execution_count": 133,
   "metadata": {
    "collapsed": false
   },
   "outputs": [
    {
     "data": {
      "text/plain": [
       "array([[2654,   47],\n",
       "       [ 257,  528]])"
      ]
     },
     "execution_count": 133,
     "metadata": {},
     "output_type": "execute_result"
    }
   ],
   "source": [
    "confusion_matrix(y_test, rf02_predictions)"
   ]
  },
  {
   "cell_type": "markdown",
   "metadata": {},
   "source": [
    "### RF model 3"
   ]
  },
  {
   "cell_type": "code",
   "execution_count": 103,
   "metadata": {
    "collapsed": true
   },
   "outputs": [],
   "source": [
    "rf03 = RandomForestClassifier(n_estimators=200)\n",
    "rf03.fit(X3_train, y3_train)\n",
    "rf03_predictions = rf03.predict(X3_val)"
   ]
  },
  {
   "cell_type": "code",
   "execution_count": 104,
   "metadata": {
    "collapsed": false,
    "scrolled": true
   },
   "outputs": [
    {
     "name": "stdout",
     "output_type": "stream",
     "text": [
      "Accuracy: 0.9157\n",
      "Recall: 0.7096\n",
      "Precision: 0.9336\n",
      "Hinge loss: 0.8369\n",
      "F1 score: 0.8063\n",
      "AUC: 0.8465\n"
     ]
    }
   ],
   "source": [
    "# Using mean retirement age of HOF eligible players\n",
    "print \"Accuracy: %.4g\" % metrics.accuracy_score(y3_val, rf03_predictions, normalize=True)\n",
    "print \"Recall: %.4g\" % metrics.recall_score(y3_val, rf03_predictions)\n",
    "print \"Precision: %.4g\" % metrics.precision_score(y3_val, rf03_predictions)\n",
    "print \"Hinge loss: %.4g\" % metrics.hinge_loss(y3_val, rf03_predictions)\n",
    "print \"F1 score: %.4g\" % metrics.f1_score(y3_val, rf03_predictions)\n",
    "rf03_fpr, rf03_tpr, thresholds = metrics.roc_curve(y1_val, rf03_predictions)\n",
    "print \"AUC: %.4g\" % metrics.auc(rf03_fpr, rf03_tpr)"
   ]
  },
  {
   "cell_type": "code",
   "execution_count": 105,
   "metadata": {
    "collapsed": false
   },
   "outputs": [
    {
     "data": {
      "text/plain": [
       "array([2, 1, 0])"
      ]
     },
     "execution_count": 105,
     "metadata": {},
     "output_type": "execute_result"
    }
   ],
   "source": []
  },
  {
   "cell_type": "code",
   "execution_count": 49,
   "metadata": {
    "collapsed": false,
    "scrolled": true
   },
   "outputs": [
    {
     "name": "stdout",
     "output_type": "stream",
     "text": [
      "Accuracy: 0.9269\n",
      "Recall: 0.7478\n",
      "Precision: 0.9115\n",
      "Hinge loss: 0.848\n",
      "F1 score: 0.8216\n"
     ]
    }
   ],
   "source": [
    "# Old\n",
    "# Using mean retirement age of HOF eligible players\n",
    "print \"Accuracy: %.4g\" % metrics.accuracy_score(y3_test, rf03_predictions, normalize=True)\n",
    "print \"Recall: %.4g\" % metrics.recall_score(y3_test, rf03_predictions)\n",
    "print \"Precision: %.4g\" % metrics.precision_score(y3_test, rf03_predictions)\n",
    "print \"Hinge loss: %.4g\" % metrics.hinge_loss(y3_test, rf03_predictions)\n",
    "print \"F1 score: %.4g\" % metrics.f1_score(y3_test, rf03_predictions)"
   ]
  },
  {
   "cell_type": "markdown",
   "metadata": {},
   "source": [
    "### RF model 3 with sample_weight"
   ]
  },
  {
   "cell_type": "code",
   "execution_count": 8,
   "metadata": {
    "collapsed": true
   },
   "outputs": [
    {
     "ename": "NameError",
     "evalue": "name 'X3_train' is not defined",
     "output_type": "error",
     "traceback": [
      "\u001b[0;31m---------------------------------------------------------------------------\u001b[0m",
      "\u001b[0;31mNameError\u001b[0m                                 Traceback (most recent call last)",
      "\u001b[0;32m<ipython-input-8-4fe4fb7de0a6>\u001b[0m in \u001b[0;36m<module>\u001b[0;34m()\u001b[0m\n\u001b[1;32m      1\u001b[0m \u001b[0mrf03b\u001b[0m \u001b[0;34m=\u001b[0m \u001b[0mRandomForestClassifier\u001b[0m\u001b[0;34m(\u001b[0m\u001b[0mn_estimators\u001b[0m\u001b[0;34m=\u001b[0m\u001b[0;36m200\u001b[0m\u001b[0;34m)\u001b[0m\u001b[0;34m\u001b[0m\u001b[0m\n\u001b[0;32m----> 2\u001b[0;31m \u001b[0mrf03b\u001b[0m\u001b[0;34m.\u001b[0m\u001b[0mfit\u001b[0m\u001b[0;34m(\u001b[0m\u001b[0mX3_train\u001b[0m\u001b[0;34m,\u001b[0m \u001b[0my3_train\u001b[0m\u001b[0;34m,\u001b[0m  \u001b[0msample_weight\u001b[0m\u001b[0;34m=\u001b[0m\u001b[0mnp\u001b[0m\u001b[0;34m.\u001b[0m\u001b[0marray\u001b[0m\u001b[0;34m(\u001b[0m\u001b[0;34m[\u001b[0m\u001b[0;36m0.3\u001b[0m \u001b[0;32mif\u001b[0m \u001b[0mi\u001b[0m \u001b[0;34m==\u001b[0m \u001b[0;36m1\u001b[0m \u001b[0;32melse\u001b[0m \u001b[0;36m1\u001b[0m \u001b[0;32mfor\u001b[0m \u001b[0mi\u001b[0m \u001b[0;32min\u001b[0m \u001b[0my3_train\u001b[0m\u001b[0;34m]\u001b[0m\u001b[0;34m)\u001b[0m\u001b[0;34m)\u001b[0m\u001b[0;34m\u001b[0m\u001b[0m\n\u001b[0m\u001b[1;32m      3\u001b[0m \u001b[0mrf03b_predictions\u001b[0m \u001b[0;34m=\u001b[0m \u001b[0mrf03b\u001b[0m\u001b[0;34m.\u001b[0m\u001b[0mpredict\u001b[0m\u001b[0;34m(\u001b[0m\u001b[0mX3_test\u001b[0m\u001b[0;34m)\u001b[0m\u001b[0;34m\u001b[0m\u001b[0m\n",
      "\u001b[0;31mNameError\u001b[0m: name 'X3_train' is not defined"
     ]
    }
   ],
   "source": [
    "rf03b = RandomForestClassifier(n_estimators=200)\n",
    "rf03b.fit(X3_train, y3_train,  sample_weight=np.array([0.3 if i == 1 else 1 for i in y3_train]))\n",
    "rf03b_predictions = rf03b.predict(X3_test)"
   ]
  },
  {
   "cell_type": "code",
   "execution_count": 115,
   "metadata": {
    "collapsed": false
   },
   "outputs": [
    {
     "name": "stdout",
     "output_type": "stream",
     "text": [
      "Accuracy: 0.9269\n",
      "Recall: 0.7516\n",
      "Precision: 0.9077\n",
      "Hinge loss: 0.848\n",
      "F1 score: 0.8223\n"
     ]
    }
   ],
   "source": [
    "print \"Accuracy: %.4g\" % metrics.accuracy_score(y3_test, rf03b_predictions, normalize=True)\n",
    "print \"Recall: %.4g\" % metrics.recall_score(y3_test, rf03b_predictions)\n",
    "print \"Precision: %.4g\" % metrics.precision_score(y3_test, rf03b_predictions)\n",
    "print \"Hinge loss: %.4g\" % metrics.hinge_loss(y3_test, rf03b_predictions)\n",
    "print \"F1 score: %.4g\" % metrics.f1_score(y3_test, rf03b_predictions)"
   ]
  },
  {
   "cell_type": "code",
   "execution_count": 123,
   "metadata": {
    "collapsed": true
   },
   "outputs": [],
   "source": [
    "rf03b = RandomForestClassifier(n_jobs=-1)\n",
    "rf03b.fit(X3_train, y3_train)\n",
    "rf03b_predictions = rf03b.predict(X3_test)"
   ]
  },
  {
   "cell_type": "code",
   "execution_count": 124,
   "metadata": {
    "collapsed": false
   },
   "outputs": [
    {
     "name": "stdout",
     "output_type": "stream",
     "text": [
      "Accuracy: 0.9142\n",
      "Recall: 0.6968\n",
      "Precision: 0.8997\n",
      "Hinge loss: 0.8606\n",
      "F1 score: 0.7854\n"
     ]
    }
   ],
   "source": [
    "print \"Accuracy: %.4g\" % metrics.accuracy_score(y3_test, rf03b_predictions, normalize=True)\n",
    "print \"Recall: %.4g\" % metrics.recall_score(y3_test, rf03b_predictions)\n",
    "print \"Precision: %.4g\" % metrics.precision_score(y3_test, rf03b_predictions)\n",
    "print \"Hinge loss: %.4g\" % metrics.hinge_loss(y3_test, rf03b_predictions)\n",
    "print \"F1 score: %.4g\" % metrics.f1_score(y3_test, rf03b_predictions)"
   ]
  },
  {
   "cell_type": "code",
   "execution_count": 125,
   "metadata": {
    "collapsed": false
   },
   "outputs": [
    {
     "data": {
      "text/plain": [
       "GridSearchCV(cv=None, error_score='raise',\n",
       "       estimator=RandomForestClassifier(bootstrap=True, class_weight=None, criterion='gini',\n",
       "            max_depth=None, max_features='auto', max_leaf_nodes=None,\n",
       "            min_samples_leaf=1, min_samples_split=2,\n",
       "            min_weight_fraction_leaf=0.0, n_estimators=10, n_jobs=-1,\n",
       "            oob_score=False, random_state=None, verbose=0,\n",
       "            warm_start=False),\n",
       "       fit_params={}, iid=True, loss_func=None, n_jobs=1,\n",
       "       param_grid={'n_estimators': [10, 50, 100, 200, 300], 'max_features': ['sqrt', 'log2', None], 'class_weight': ['auto', 'subsample', None], 'max_depth': [None, 10, 25, 50], 'min_samples_leaf': [1, 10, 50]},\n",
       "       pre_dispatch='2*n_jobs', refit=True, score_func=None, scoring=None,\n",
       "       verbose=0)"
      ]
     },
     "execution_count": 125,
     "metadata": {},
     "output_type": "execute_result"
    }
   ],
   "source": [
    "param_grid_rf03b = {'n_estimators': [10, 50, 100, 200, 300], 'max_features': ['sqrt', 'log2', None],\n",
    "                    'max_depth': [None, 10, 25, 50], 'min_samples_leaf': [1, 10, 50],\n",
    "                    'class_weight': ['auto', 'subsample', None]}\n",
    "\n",
    "#         {n_estimators=10, criterion='gini', max_depth=None, min_samples_split=2,\n",
    "#                     min_samples_leaf=1, min_weight_fraction_leaf=0.0, max_features='auto',\n",
    "#                     max_leaf_nodes=None, bootstrap=True, oob_score=False, n_jobs=1, random_state=None,\n",
    "#                     verbose=0, warm_start=False, class_weight=None}\n",
    "\n",
    "rf03b_gscv = GridSearchCV(rf03b, param_grid_rf03b)\n",
    "rf03b_gscv.fit(X3_train, y3_train)"
   ]
  },
  {
   "cell_type": "code",
   "execution_count": 127,
   "metadata": {
    "collapsed": false
   },
   "outputs": [
    {
     "data": {
      "text/plain": [
       "{'class_weight': None,\n",
       " 'max_depth': 50,\n",
       " 'max_features': 'sqrt',\n",
       " 'min_samples_leaf': 1,\n",
       " 'n_estimators': 300}"
      ]
     },
     "execution_count": 127,
     "metadata": {},
     "output_type": "execute_result"
    }
   ],
   "source": [
    "rf03b_gscv.best_params_"
   ]
  },
  {
   "cell_type": "code",
   "execution_count": 18,
   "metadata": {
    "collapsed": false
   },
   "outputs": [],
   "source": [
    "# Build model based on above grid search results\n",
    "rf03c = RandomForestClassifier(n_jobs=-1, max_depth=50, max_features='sqrt', min_samples_leaf=1, n_estimators=300,\n",
    "                              random_state=23)\n",
    "rf03c.fit(X3_train, y3_train)\n",
    "rf03c_predictions = rf03c.predict(X3_test)"
   ]
  },
  {
   "cell_type": "code",
   "execution_count": 19,
   "metadata": {
    "collapsed": false
   },
   "outputs": [
    {
     "name": "stdout",
     "output_type": "stream",
     "text": [
      "Accuracy: 0.9269\n",
      "Recall: 0.7427\n",
      "Precision: 0.9167\n",
      "Hinge loss: 0.848\n",
      "F1 score: 0.8205\n"
     ]
    }
   ],
   "source": [
    "print \"Accuracy: %.4g\" % metrics.accuracy_score(y3_test, rf03c_predictions, normalize=True)\n",
    "print \"Recall: %.4g\" % metrics.recall_score(y3_test, rf03c_predictions)\n",
    "print \"Precision: %.4g\" % metrics.precision_score(y3_test, rf03c_predictions)\n",
    "print \"Hinge loss: %.4g\" % metrics.hinge_loss(y3_test, rf03c_predictions)\n",
    "print \"F1 score: %.4g\" % metrics.f1_score(y3_test, rf03c_predictions)"
   ]
  },
  {
   "cell_type": "markdown",
   "metadata": {},
   "source": [
    "### RF model 4"
   ]
  },
  {
   "cell_type": "code",
   "execution_count": 108,
   "metadata": {
    "collapsed": true
   },
   "outputs": [],
   "source": [
    "rf04 = RandomForestClassifier(n_estimators=200, random_state=23)\n",
    "rf04.fit(X4_train, y4_train)\n",
    "rf04_predictions = rf04.predict(X4_val)\n",
    "rf04_probas = rf04.predict_proba(X4_val)"
   ]
  },
  {
   "cell_type": "code",
   "execution_count": 109,
   "metadata": {
    "collapsed": false,
    "scrolled": true
   },
   "outputs": [
    {
     "name": "stdout",
     "output_type": "stream",
     "text": [
      "Accuracy: 0.9118\n",
      "Recall: 0.6957\n",
      "Precision: 0.9302\n",
      "Hinge loss: 0.8408\n",
      "F1 score: 0.796\n"
     ]
    }
   ],
   "source": [
    "print \"Accuracy: %.4g\" % metrics.accuracy_score(y4_val, rf04_predictions, normalize=True)\n",
    "print \"Recall: %.4g\" % metrics.recall_score(y4_val, rf04_predictions)\n",
    "print \"Precision: %.4g\" % metrics.precision_score(y4_val, rf04_predictions)\n",
    "print \"Hinge loss: %.4g\" % metrics.hinge_loss(y4_val, rf04_predictions)\n",
    "print \"F1 score: %.4g\" % metrics.f1_score(y4_val, rf04_predictions)"
   ]
  },
  {
   "cell_type": "code",
   "execution_count": null,
   "metadata": {
    "collapsed": true
   },
   "outputs": [],
   "source": []
  },
  {
   "cell_type": "code",
   "execution_count": 28,
   "metadata": {
    "collapsed": false,
    "scrolled": true
   },
   "outputs": [
    {
     "name": "stdout",
     "output_type": "stream",
     "text": [
      "Accuracy: 0.9269\n",
      "Recall: 0.7478\n",
      "Precision: 0.9115\n",
      "Hinge loss: 0.848\n",
      "F1 score: 0.8216\n"
     ]
    }
   ],
   "source": [
    "print \"Accuracy: %.4g\" % metrics.accuracy_score(y4_test, rf04_predictions, normalize=True)\n",
    "print \"Recall: %.4g\" % metrics.recall_score(y4_test, rf04_predictions)\n",
    "print \"Precision: %.4g\" % metrics.precision_score(y4_test, rf04_predictions)\n",
    "print \"Hinge loss: %.4g\" % metrics.hinge_loss(y4_test, rf04_predictions)\n",
    "print \"F1 score: %.4g\" % metrics.f1_score(y4_test, rf04_predictions)"
   ]
  },
  {
   "cell_type": "code",
   "execution_count": 26,
   "metadata": {
    "collapsed": true
   },
   "outputs": [],
   "source": [
    "rf04b = RandomForestClassifier(n_estimators=300, max_depth=50, random_state=23)\n",
    "rf04b.fit(X4_train, y4_train)\n",
    "rf04b_predictions = rf04.predict(X4_test)\n",
    "rf04b_probas = rf04b.predict_proba(X4_test)"
   ]
  },
  {
   "cell_type": "code",
   "execution_count": 30,
   "metadata": {
    "collapsed": false,
    "scrolled": true
   },
   "outputs": [
    {
     "name": "stdout",
     "output_type": "stream",
     "text": [
      "Accuracy: 0.9269\n",
      "Recall: 0.7478\n",
      "Precision: 0.9115\n",
      "Hinge loss: 0.848\n",
      "F1 score: 0.8216\n"
     ]
    }
   ],
   "source": [
    "print \"Accuracy: %.4g\" % metrics.accuracy_score(y4_test, rf04_predictions, normalize=True)\n",
    "print \"Recall: %.4g\" % metrics.recall_score(y4_test, rf04_predictions)\n",
    "print \"Precision: %.4g\" % metrics.precision_score(y4_test, rf04_predictions)\n",
    "print \"Hinge loss: %.4g\" % metrics.hinge_loss(y4_test, rf04_predictions)\n",
    "print \"F1 score: %.4g\" % metrics.f1_score(y4_test, rf04_predictions)"
   ]
  },
  {
   "cell_type": "markdown",
   "metadata": {},
   "source": [
    "### Use class weight"
   ]
  },
  {
   "cell_type": "code",
   "execution_count": 31,
   "metadata": {
    "collapsed": true
   },
   "outputs": [],
   "source": [
    "rf04c = RandomForestClassifier(n_estimators=300, max_depth=50, class_weight={0: 0.75, 1: 0.25}, random_state=23)\n",
    "rf04c.fit(X4_train, y4_train)\n",
    "rf04c_predictions = rf04.predict(X4_test)\n",
    "rf04c_probas = rf04c.predict_proba(X4_test)"
   ]
  },
  {
   "cell_type": "code",
   "execution_count": 32,
   "metadata": {
    "collapsed": false,
    "scrolled": true
   },
   "outputs": [
    {
     "name": "stdout",
     "output_type": "stream",
     "text": [
      "Accuracy: 0.9269\n",
      "Recall: 0.7478\n",
      "Precision: 0.9115\n",
      "Hinge loss: 0.848\n",
      "F1 score: 0.8216\n"
     ]
    }
   ],
   "source": [
    "print \"Accuracy: %.4g\" % metrics.accuracy_score(y4_test, rf04c_predictions, normalize=True)\n",
    "print \"Recall: %.4g\" % metrics.recall_score(y4_test, rf04c_predictions)\n",
    "print \"Precision: %.4g\" % metrics.precision_score(y4_test, rf04c_predictions)\n",
    "print \"Hinge loss: %.4g\" % metrics.hinge_loss(y4_test, rf04c_predictions)\n",
    "print \"F1 score: %.4g\" % metrics.f1_score(y4_test, rf04c_predictions)"
   ]
  },
  {
   "cell_type": "markdown",
   "metadata": {},
   "source": [
    "### Class weight doesn't change results"
   ]
  },
  {
   "cell_type": "markdown",
   "metadata": {},
   "source": [
    "### Use sample_weight"
   ]
  },
  {
   "cell_type": "code",
   "execution_count": 63,
   "metadata": {
    "collapsed": false
   },
   "outputs": [],
   "source": [
    "rf04d = RandomForestClassifier(n_estimators=300, max_depth=50, random_state=23)\n",
    "rf04d.fit(X4_train, y4_train, sample_weight=np.array([0.3 if i == 1 else 1 for i in y3_train]))\n",
    "rf04d_predictions = rf04d.predict(X4_test)\n",
    "rf04d_probas = rf04d.predict_proba(X4_test)"
   ]
  },
  {
   "cell_type": "code",
   "execution_count": 64,
   "metadata": {
    "collapsed": false,
    "scrolled": false
   },
   "outputs": [
    {
     "name": "stdout",
     "output_type": "stream",
     "text": [
      "Accuracy: 0.9271\n",
      "Recall: 0.7554\n",
      "Precision: 0.9053\n",
      "Hinge loss: 0.8477\n",
      "F1 score: 0.8236\n"
     ]
    }
   ],
   "source": [
    "print \"Accuracy: %.4g\" % metrics.accuracy_score(y4_test, rf04d_predictions, normalize=True)\n",
    "print \"Recall: %.4g\" % metrics.recall_score(y4_test, rf04d_predictions)\n",
    "print \"Precision: %.4g\" % metrics.precision_score(y4_test, rf04d_predictions)\n",
    "print \"Hinge loss: %.4g\" % metrics.hinge_loss(y4_test, rf04d_predictions)\n",
    "print \"F1 score: %.4g\" % metrics.f1_score(y4_test, rf04d_predictions)"
   ]
  },
  {
   "cell_type": "code",
   "execution_count": 80,
   "metadata": {
    "collapsed": false
   },
   "outputs": [
    {
     "name": "stdout",
     "output_type": "stream",
     "text": [
      "Accuracy cv: 0.9156\n",
      "Recall cv: 0.7123\n",
      "Precision cv: 0.9082\n",
      "F1 score cv: 0.7981\n"
     ]
    }
   ],
   "source": [
    "print \"Accuracy cv: %.4g\" % cross_val_score(rf04d, X4_train, y4_train, cv=5).mean()\n",
    "print \"Recall cv: %.4g\" % cross_val_score(rf04d, X4_train, y4_train, cv=5, scoring='recall').mean()\n",
    "print \"Precision cv: %.4g\" % cross_val_score(rf04d, X4_train, y4_train, cv=5, scoring='precision').mean()\n",
    "print \"F1 score cv: %.4g\" % cross_val_score(rf04d, X4_train, y4_train, cv=5, scoring='f1').mean()\n",
    "\n",
    "# rf04d_accuracy = cross_val_score(rf04d, X4_train, y4_train, cv=5).mean()"
   ]
  },
  {
   "cell_type": "code",
   "execution_count": 79,
   "metadata": {
    "collapsed": false
   },
   "outputs": [
    {
     "data": {
      "text/plain": [
       "0.91563204261421838"
      ]
     },
     "execution_count": 79,
     "metadata": {},
     "output_type": "execute_result"
    }
   ],
   "source": [
    "rf04d_scores.mean()"
   ]
  },
  {
   "cell_type": "code",
   "execution_count": null,
   "metadata": {
    "collapsed": true
   },
   "outputs": [],
   "source": []
  },
  {
   "cell_type": "markdown",
   "metadata": {},
   "source": [
    "## Gradient Boosting Classifier"
   ]
  },
  {
   "cell_type": "markdown",
   "metadata": {},
   "source": [
    "### Gradient Boosting Classifer - data 1"
   ]
  },
  {
   "cell_type": "code",
   "execution_count": 76,
   "metadata": {
    "collapsed": false
   },
   "outputs": [],
   "source": [
    "gbc01 = GradientBoostingClassifier()\n",
    "gbc01.fit(X1_train, y1_train)\n",
    "gbc01_predictions = gbc01.predict(X1_test)"
   ]
  },
  {
   "cell_type": "code",
   "execution_count": 77,
   "metadata": {
    "collapsed": false
   },
   "outputs": [
    {
     "name": "stdout",
     "output_type": "stream",
     "text": [
      "Accuracy: 0.8632\n",
      "Recall: 0.5274\n",
      "Precision: 0.7962\n",
      "Hinge loss: 0.9116\n",
      "F1 score: 0.6345\n"
     ]
    }
   ],
   "source": [
    "print \"Accuracy: %.4g\" % metrics.accuracy_score(y1_test, gbc01_predictions, normalize=True)\n",
    "print \"Recall: %.4g\" % metrics.recall_score(y1_test, gbc01_predictions)\n",
    "print \"Precision: %.4g\" % metrics.precision_score(y1_test, gbc01_predictions)\n",
    "print \"Hinge loss: %.4g\" % metrics.hinge_loss(y1_test, gbc01_predictions)\n",
    "print \"F1 score: %.4g\" % metrics.f1_score(y1_test, gbc01_predictions)"
   ]
  },
  {
   "cell_type": "code",
   "execution_count": 47,
   "metadata": {
    "collapsed": false
   },
   "outputs": [
    {
     "name": "stdout",
     "output_type": "stream",
     "text": [
      "Accuracy: 0.8285\n",
      "Recall: 0.3771\n",
      "Precision: 0.7309\n",
      "Hinge loss: 0.9464\n",
      "F1 score: 0.4975\n"
     ]
    }
   ],
   "source": [
    "print \"Accuracy: %.4g\" % metrics.accuracy_score(y_test, gbc01_predictions, normalize=True)\n",
    "print \"Recall: %.4g\" % metrics.recall_score(y_test, gbc01_predictions)\n",
    "print \"Precision: %.4g\" % metrics.precision_score(y_test, gbc01_predictions)\n",
    "print \"Hinge loss: %.4g\" % metrics.hinge_loss(y_test, gbc01_predictions)\n",
    "print \"F1 score: %.4g\" % metrics.f1_score(y_test, gbc01_predictions)"
   ]
  },
  {
   "cell_type": "code",
   "execution_count": 127,
   "metadata": {
    "collapsed": false
   },
   "outputs": [
    {
     "data": {
      "text/plain": [
       "array([[2595,  106],\n",
       "       [ 371,  414]])"
      ]
     },
     "execution_count": 127,
     "metadata": {},
     "output_type": "execute_result"
    }
   ],
   "source": [
    "confusion_matrix(y_test, gbc01_predictions)"
   ]
  },
  {
   "cell_type": "markdown",
   "metadata": {},
   "source": [
    "### Gradient Boosting Classifer - data 2"
   ]
  },
  {
   "cell_type": "code",
   "execution_count": 79,
   "metadata": {
    "collapsed": false
   },
   "outputs": [],
   "source": [
    "gbc02 = GradientBoostingClassifier()\n",
    "gbc02.fit(X2_train, y2_train)\n",
    "gbc02_predictions = gbc02.predict(X2_test)"
   ]
  },
  {
   "cell_type": "code",
   "execution_count": 80,
   "metadata": {
    "collapsed": false
   },
   "outputs": [
    {
     "name": "stdout",
     "output_type": "stream",
     "text": [
      "Accuracy: 0.8609\n",
      "Recall: 0.5299\n",
      "Precision: 0.782\n",
      "Hinge loss: 0.9139\n",
      "F1 score: 0.6317\n"
     ]
    }
   ],
   "source": [
    "print \"Accuracy: %.4g\" % metrics.accuracy_score(y2_test, gbc02_predictions, normalize=True)\n",
    "print \"Recall: %.4g\" % metrics.recall_score(y2_test, gbc02_predictions)\n",
    "print \"Precision: %.4g\" % metrics.precision_score(y2_test, gbc02_predictions)\n",
    "print \"Hinge loss: %.4g\" % metrics.hinge_loss(y2_test, gbc02_predictions)\n",
    "print \"F1 score: %.4g\" % metrics.f1_score(y2_test, gbc02_predictions)"
   ]
  },
  {
   "cell_type": "markdown",
   "metadata": {},
   "source": [
    "### Gradient Boosting Classifer - data 3"
   ]
  },
  {
   "cell_type": "code",
   "execution_count": 81,
   "metadata": {
    "collapsed": true
   },
   "outputs": [],
   "source": [
    "gbc03 = GradientBoostingClassifier()\n",
    "gbc03.fit(X3_train, y3_train)\n",
    "gbc03_predictions = gbc03.predict(X3_test)"
   ]
  },
  {
   "cell_type": "code",
   "execution_count": 82,
   "metadata": {
    "collapsed": false,
    "scrolled": true
   },
   "outputs": [
    {
     "name": "stdout",
     "output_type": "stream",
     "text": [
      "Accuracy: 0.8712\n",
      "Recall: 0.6153\n",
      "Precision: 0.7667\n",
      "Hinge loss: 0.9036\n",
      "F1 score: 0.6827\n"
     ]
    }
   ],
   "source": [
    "print \"Accuracy: %.4g\" % metrics.accuracy_score(y3_test, gbc03_predictions, normalize=True)\n",
    "print \"Recall: %.4g\" % metrics.recall_score(y3_test, gbc03_predictions)\n",
    "print \"Precision: %.4g\" % metrics.precision_score(y3_test, gbc03_predictions)\n",
    "print \"Hinge loss: %.4g\" % metrics.hinge_loss(y3_test, gbc03_predictions)\n",
    "print \"F1 score: %.4g\" % metrics.f1_score(y3_test, gbc03_predictions)"
   ]
  },
  {
   "cell_type": "markdown",
   "metadata": {},
   "source": [
    "### Gradient Boosting Classifer - data 4"
   ]
  },
  {
   "cell_type": "code",
   "execution_count": 83,
   "metadata": {
    "collapsed": true
   },
   "outputs": [],
   "source": [
    "gbc04 = GradientBoostingClassifier()\n",
    "gbc04.fit(X4_train, y4_train)\n",
    "gbc04_predictions = gbc04.predict(X4_test)"
   ]
  },
  {
   "cell_type": "code",
   "execution_count": 84,
   "metadata": {
    "collapsed": false
   },
   "outputs": [
    {
     "name": "stdout",
     "output_type": "stream",
     "text": [
      "Accuracy: 0.8726\n",
      "Recall: 0.6178\n",
      "Precision: 0.7711\n",
      "Hinge loss: 0.9022\n",
      "F1 score: 0.686\n"
     ]
    }
   ],
   "source": [
    "print \"Accuracy: %.4g\" % metrics.accuracy_score(y4_test, gbc04_predictions, normalize=True)\n",
    "print \"Recall: %.4g\" % metrics.recall_score(y4_test, gbc04_predictions)\n",
    "print \"Precision: %.4g\" % metrics.precision_score(y4_test, gbc04_predictions)\n",
    "print \"Hinge loss: %.4g\" % metrics.hinge_loss(y4_test, gbc04_predictions)\n",
    "print \"F1 score: %.4g\" % metrics.f1_score(y4_test, gbc04_predictions)"
   ]
  },
  {
   "cell_type": "markdown",
   "metadata": {},
   "source": [
    "### Do grid search\n"
   ]
  },
  {
   "cell_type": "code",
   "execution_count": null,
   "metadata": {
    "collapsed": true
   },
   "outputs": [],
   "source": [
    "param_grid_gbc02 = {'C': [0.1, 1, 2.5, 5, 7.5, 10, 20, 50]}\n",
    "\n",
    "svm02b_gscv = GridSearchCV(svm02b, param_grid_svm02b)\n",
    "svm02b_gscv.fit(X2_train, y2_train)"
   ]
  },
  {
   "cell_type": "code",
   "execution_count": 140,
   "metadata": {
    "collapsed": false
   },
   "outputs": [
    {
     "data": {
      "text/plain": [
       "0    8927\n",
       "1    2690\n",
       "Name: inducted, dtype: int64"
      ]
     },
     "execution_count": 140,
     "metadata": {},
     "output_type": "execute_result"
    }
   ],
   "source": [
    "y.value_counts()"
   ]
  },
  {
   "cell_type": "code",
   "execution_count": null,
   "metadata": {
    "collapsed": true
   },
   "outputs": [],
   "source": []
  },
  {
   "cell_type": "code",
   "execution_count": 168,
   "metadata": {
    "collapsed": false
   },
   "outputs": [
    {
     "data": {
      "text/plain": [
       "0.30133303461409205"
      ]
     },
     "execution_count": 168,
     "metadata": {},
     "output_type": "execute_result"
    }
   ],
   "source": [
    "2690/8927."
   ]
  },
  {
   "cell_type": "markdown",
   "metadata": {},
   "source": [
    "### Decision Trees - data 1"
   ]
  },
  {
   "cell_type": "code",
   "execution_count": 104,
   "metadata": {
    "collapsed": true
   },
   "outputs": [],
   "source": [
    "dt01 = DecisionTreeClassifier()\n",
    "dt01.fit(X1_train, y1_train)\n",
    "dt01_predictions = dt01.predict(X1_test)"
   ]
  },
  {
   "cell_type": "code",
   "execution_count": 105,
   "metadata": {
    "collapsed": false,
    "scrolled": true
   },
   "outputs": [
    {
     "name": "stdout",
     "output_type": "stream",
     "text": [
      "Accuracy: 0.8508\n",
      "Recall: 0.6854\n",
      "Precision: 0.6634\n",
      "Hinge loss: 0.924\n",
      "F1 score: 0.6742\n"
     ]
    }
   ],
   "source": [
    "print \"Accuracy: %.4g\" % metrics.accuracy_score(y1_test, dt01_predictions, normalize=True)\n",
    "print \"Recall: %.4g\" % metrics.recall_score(y1_test, dt01_predictions)\n",
    "print \"Precision: %.4g\" % metrics.precision_score(y1_test, dt01_predictions)\n",
    "print \"Hinge loss: %.4g\" % metrics.hinge_loss(y1_test, dt01_predictions)\n",
    "print \"F1 score: %.4g\" % metrics.f1_score(y1_test, dt01_predictions)"
   ]
  },
  {
   "cell_type": "markdown",
   "metadata": {},
   "source": [
    "### Decision Trees - data 2"
   ]
  },
  {
   "cell_type": "code",
   "execution_count": 107,
   "metadata": {
    "collapsed": true
   },
   "outputs": [],
   "source": [
    "dt02 = DecisionTreeClassifier()\n",
    "dt02.fit(X2_train, y2_train)\n",
    "dt02_predictions = dt02.predict(X2_test)"
   ]
  },
  {
   "cell_type": "code",
   "execution_count": 108,
   "metadata": {
    "collapsed": false
   },
   "outputs": [
    {
     "name": "stdout",
     "output_type": "stream",
     "text": [
      "Accuracy: 0.8551\n",
      "Recall: 0.6879\n",
      "Precision: 0.675\n",
      "Hinge loss: 0.9197\n",
      "F1 score: 0.6814\n"
     ]
    }
   ],
   "source": [
    "print \"Accuracy: %.4g\" % metrics.accuracy_score(y2_test, dt02_predictions, normalize=True)\n",
    "print \"Recall: %.4g\" % metrics.recall_score(y2_test, dt02_predictions)\n",
    "print \"Precision: %.4g\" % metrics.precision_score(y2_test, dt02_predictions)\n",
    "print \"Hinge loss: %.4g\" % metrics.hinge_loss(y2_test, dt02_predictions)\n",
    "print \"F1 score: %.4g\" % metrics.f1_score(y2_test, dt02_predictions)"
   ]
  },
  {
   "cell_type": "markdown",
   "metadata": {},
   "source": [
    "### Decision Trees - data 3"
   ]
  },
  {
   "cell_type": "code",
   "execution_count": 109,
   "metadata": {
    "collapsed": true
   },
   "outputs": [],
   "source": [
    "dt03 = DecisionTreeClassifier()\n",
    "dt03.fit(X3_train, y3_train)\n",
    "dt03_predictions = dt03.predict(X3_test)"
   ]
  },
  {
   "cell_type": "code",
   "execution_count": 110,
   "metadata": {
    "collapsed": false,
    "scrolled": true
   },
   "outputs": [
    {
     "name": "stdout",
     "output_type": "stream",
     "text": [
      "Accuracy: 0.8712\n",
      "Recall: 0.7121\n",
      "Precision: 0.7148\n",
      "Hinge loss: 0.9036\n",
      "F1 score: 0.7135\n"
     ]
    }
   ],
   "source": [
    "print \"Accuracy: %.4g\" % metrics.accuracy_score(y3_test, dt03_predictions, normalize=True)\n",
    "print \"Recall: %.4g\" % metrics.recall_score(y3_test, dt03_predictions)\n",
    "print \"Precision: %.4g\" % metrics.precision_score(y3_test, dt03_predictions)\n",
    "print \"Hinge loss: %.4g\" % metrics.hinge_loss(y3_test, dt03_predictions)\n",
    "print \"F1 score: %.4g\" % metrics.f1_score(y3_test, dt03_predictions)"
   ]
  },
  {
   "cell_type": "markdown",
   "metadata": {},
   "source": [
    "### Decision Trees - data 4"
   ]
  },
  {
   "cell_type": "code",
   "execution_count": 111,
   "metadata": {
    "collapsed": true
   },
   "outputs": [],
   "source": [
    "dt04 = DecisionTreeClassifier()\n",
    "dt04.fit(X4_train, y4_train)\n",
    "dt04_predictions = dt04.predict(X4_test)"
   ]
  },
  {
   "cell_type": "code",
   "execution_count": 112,
   "metadata": {
    "collapsed": false,
    "scrolled": true
   },
   "outputs": [
    {
     "name": "stdout",
     "output_type": "stream",
     "text": [
      "Accuracy: 0.8715\n",
      "Recall: 0.7134\n",
      "Precision: 0.7152\n",
      "Hinge loss: 0.9033\n",
      "F1 score: 0.7143\n"
     ]
    }
   ],
   "source": [
    "print \"Accuracy: %.4g\" % metrics.accuracy_score(y4_test, dt04_predictions, normalize=True)\n",
    "print \"Recall: %.4g\" % metrics.recall_score(y4_test, dt04_predictions)\n",
    "print \"Precision: %.4g\" % metrics.precision_score(y4_test, dt04_predictions)\n",
    "print \"Hinge loss: %.4g\" % metrics.hinge_loss(y4_test, dt04_predictions)\n",
    "print \"F1 score: %.4g\" % metrics.f1_score(y4_test, dt04_predictions)"
   ]
  },
  {
   "cell_type": "markdown",
   "metadata": {},
   "source": [
    "### Data 4 yields best results for base DT model."
   ]
  },
  {
   "cell_type": "code",
   "execution_count": 139,
   "metadata": {
    "collapsed": false
   },
   "outputs": [],
   "source": [
    "dt04b = DecisionTreeClassifier(max_features='auto', max_depth=10, min_samples_leaf=50, class_weight='auto')\n",
    "dt04b.fit(X4_train, y4_train)\n",
    "dt04b_predictions = dt04b.predict(X4_test)"
   ]
  },
  {
   "cell_type": "code",
   "execution_count": 140,
   "metadata": {
    "collapsed": false
   },
   "outputs": [
    {
     "name": "stdout",
     "output_type": "stream",
     "text": [
      "Accuracy: 0.7679\n",
      "Recall: 0.7707\n",
      "Precision: 0.4903\n",
      "Hinge loss: 1.007\n",
      "F1 score: 0.5993\n"
     ]
    }
   ],
   "source": [
    "print \"Accuracy: %.4g\" % metrics.accuracy_score(y4_test, dt04b_predictions, normalize=True)\n",
    "print \"Recall: %.4g\" % metrics.recall_score(y4_test, dt04b_predictions)\n",
    "print \"Precision: %.4g\" % metrics.precision_score(y4_test, dt04b_predictions)\n",
    "print \"Hinge loss: %.4g\" % metrics.hinge_loss(y4_test, dt04b_predictions)\n",
    "print \"F1 score: %.4g\" % metrics.f1_score(y4_test, dt04b_predictions)"
   ]
  },
  {
   "cell_type": "markdown",
   "metadata": {},
   "source": [
    "### Summary:\n",
    "\n",
    "### Best linear SVM model is svm01svs:\n",
    "\n",
    "        Accuracy: 0.7083\n",
    "        Recall: 0.8226\n",
    "        Precision: 0.4509\n",
    "        Hinge loss: 1.044\n",
    "        F1 score: 0.5825"
   ]
  },
  {
   "cell_type": "markdown",
   "metadata": {},
   "source": [
    "## Top models so far:\n",
    "\n",
    "### RF\n",
    "* RF model 3\n",
    "        Accuracy: 0.9269\n",
    "        Recall: 0.7478\n",
    "        Precision: 0.9115\n",
    "        Hinge loss: 0.848\n",
    "        F1 score: 0.8216\n",
    "        \n",
    "        \n",
    "* RF model 3c\n",
    "        Accuracy: 0.9283\n",
    "        Recall: 0.7465\n",
    "        Precision: 0.9199\n",
    "        Hinge loss: 0.8465\n",
    "        F1 score: 0.8242\n",
    "\n",
    "* RF model 4\n",
    "        Accuracy: 0.9286\n",
    "        Recall: 0.7427\n",
    "        Precision: 0.9254\n",
    "        Hinge loss: 0.8462\n",
    "        F1 score: 0.824\n",
    "\n",
    "* rf04d (setting sample_weight to 0.3)\n",
    "        Accuracy: 0.9271\n",
    "        Recall: 0.7554\n",
    "        Precision: 0.9053\n",
    "        Hinge loss: 0.8477\n",
    "        F1 score: 0.8236\n",
    "\n",
    "        \n",
    "### Best cv non-linear SVM model = smnl03d\n",
    "\n",
    "        Accuracy cv: 0.8953\n",
    "        Recall cv: 0.7083\n",
    "        Precision cv: 0.8227\n",
    "        F1 score cv: 0.7609"
   ]
  },
  {
   "cell_type": "markdown",
   "metadata": {},
   "source": [
    "### Precision-recall curve"
   ]
  },
  {
   "cell_type": "code",
   "execution_count": 113,
   "metadata": {
    "collapsed": true
   },
   "outputs": [],
   "source": [
    "rf04_precision, rf04_recall, rf04_thresholds = precision_recall_curve(y4_val, rf04_probas[:,1])"
   ]
  },
  {
   "cell_type": "code",
   "execution_count": null,
   "metadata": {
    "collapsed": true
   },
   "outputs": [],
   "source": []
  },
  {
   "cell_type": "code",
   "execution_count": 112,
   "metadata": {
    "collapsed": false
   },
   "outputs": [
    {
     "data": {
      "image/png": "[encoded data removed]",
      "text/plain": [
       "<matplotlib.figure.Figure at 0x11a535390>"
      ]
     },
     "metadata": {},
     "output_type": "display_data"
    }
   ],
   "source": [
    "fig = plt.figure(figsize=(12,8))\n",
    "\n",
    "plt.plot(precision, recall, 'ro')\n",
    "plt.xlabel('precision')\n",
    "plt.ylabel('recall')\n",
    "plt.show()"
   ]
  },
  {
   "cell_type": "code",
   "execution_count": 91,
   "metadata": {
    "collapsed": false
   },
   "outputs": [
    {
     "data": {
      "text/plain": [
       "array([0, 1, 0, ..., 1, 0, 0])"
      ]
     },
     "execution_count": 91,
     "metadata": {},
     "output_type": "execute_result"
    }
   ],
   "source": [
    "rf04_predictions"
   ]
  },
  {
   "cell_type": "code",
   "execution_count": 94,
   "metadata": {
    "collapsed": false
   },
   "outputs": [
    {
     "data": {
      "text/plain": [
       "array([ 0.075,  0.97 ,  0.05 , ...,  0.89 ,  0.08 ,  0.445])"
      ]
     },
     "execution_count": 94,
     "metadata": {},
     "output_type": "execute_result"
    }
   ],
   "source": [
    "rf04_probas[:,1]"
   ]
  },
  {
   "cell_type": "code",
   "execution_count": 106,
   "metadata": {
    "collapsed": false
   },
   "outputs": [
    {
     "data": {
      "text/plain": [
       "(201,)"
      ]
     },
     "execution_count": 106,
     "metadata": {},
     "output_type": "execute_result"
    }
   ],
   "source": [
    "precision.shape"
   ]
  },
  {
   "cell_type": "code",
   "execution_count": 110,
   "metadata": {
    "collapsed": false
   },
   "outputs": [
    {
     "data": {
      "text/plain": [
       "(201,)"
      ]
     },
     "execution_count": 110,
     "metadata": {},
     "output_type": "execute_result"
    }
   ],
   "source": [
    "recall.shape"
   ]
  },
  {
   "cell_type": "code",
   "execution_count": 107,
   "metadata": {
    "collapsed": false
   },
   "outputs": [
    {
     "data": {
      "text/plain": [
       "(200,)"
      ]
     },
     "execution_count": 107,
     "metadata": {},
     "output_type": "execute_result"
    }
   ],
   "source": [
    "thresholds.shape"
   ]
  },
  {
   "cell_type": "code",
   "execution_count": 108,
   "metadata": {
    "collapsed": false
   },
   "outputs": [
    {
     "data": {
      "text/plain": [
       "array([ 0.   ,  0.005,  0.01 ,  0.015,  0.02 ,  0.025,  0.03 ,  0.035,\n",
       "        0.04 ,  0.045,  0.05 ,  0.055,  0.06 ,  0.065,  0.07 ,  0.075,\n",
       "        0.08 ,  0.085,  0.09 ,  0.095,  0.1  ,  0.105,  0.11 ,  0.115,\n",
       "        0.12 ,  0.125,  0.13 ,  0.135,  0.14 ,  0.145,  0.15 ,  0.155,\n",
       "        0.16 ,  0.165,  0.17 ,  0.175,  0.18 ,  0.185,  0.19 ,  0.195,\n",
       "        0.2  ,  0.205,  0.21 ,  0.215,  0.22 ,  0.225,  0.23 ,  0.235,\n",
       "        0.24 ,  0.245,  0.25 ,  0.255,  0.26 ,  0.265,  0.27 ,  0.275,\n",
       "        0.28 ,  0.285,  0.29 ,  0.295,  0.3  ,  0.305,  0.31 ,  0.315,\n",
       "        0.32 ,  0.325,  0.33 ,  0.335,  0.34 ,  0.345,  0.35 ,  0.355,\n",
       "        0.36 ,  0.365,  0.37 ,  0.375,  0.38 ,  0.385,  0.39 ,  0.395,\n",
       "        0.4  ,  0.405,  0.41 ,  0.415,  0.42 ,  0.425,  0.43 ,  0.435,\n",
       "        0.44 ,  0.445,  0.45 ,  0.455,  0.46 ,  0.465,  0.47 ,  0.475,\n",
       "        0.48 ,  0.485,  0.49 ,  0.495,  0.5  ,  0.505,  0.51 ,  0.515,\n",
       "        0.52 ,  0.525,  0.53 ,  0.535,  0.54 ,  0.545,  0.55 ,  0.555,\n",
       "        0.56 ,  0.565,  0.57 ,  0.575,  0.58 ,  0.585,  0.59 ,  0.595,\n",
       "        0.6  ,  0.605,  0.61 ,  0.615,  0.62 ,  0.625,  0.63 ,  0.635,\n",
       "        0.64 ,  0.645,  0.65 ,  0.655,  0.66 ,  0.665,  0.67 ,  0.675,\n",
       "        0.68 ,  0.685,  0.69 ,  0.695,  0.7  ,  0.705,  0.71 ,  0.715,\n",
       "        0.72 ,  0.725,  0.73 ,  0.735,  0.74 ,  0.745,  0.75 ,  0.755,\n",
       "        0.76 ,  0.765,  0.77 ,  0.775,  0.78 ,  0.785,  0.79 ,  0.795,\n",
       "        0.8  ,  0.805,  0.81 ,  0.82 ,  0.825,  0.83 ,  0.835,  0.84 ,\n",
       "        0.845,  0.85 ,  0.855,  0.86 ,  0.865,  0.87 ,  0.875,  0.88 ,\n",
       "        0.885,  0.89 ,  0.895,  0.9  ,  0.905,  0.91 ,  0.915,  0.92 ,\n",
       "        0.925,  0.93 ,  0.935,  0.94 ,  0.945,  0.95 ,  0.955,  0.96 ,\n",
       "        0.965,  0.97 ,  0.975,  0.98 ,  0.985,  0.99 ,  0.995,  1.   ])"
      ]
     },
     "execution_count": 108,
     "metadata": {},
     "output_type": "execute_result"
    }
   ],
   "source": [
    "thresholds"
   ]
  },
  {
   "cell_type": "code",
   "execution_count": 109,
   "metadata": {
    "collapsed": false
   },
   "outputs": [
    {
     "data": {
      "text/plain": [
       "array([ 0.22518646,  0.24928367,  0.26879506,  0.28733945,  0.30201083,\n",
       "        0.31447049,  0.32525084,  0.33462532,  0.34427684,  0.35436671,\n",
       "        0.36402067,  0.37301205,  0.38041339,  0.38989899,  0.3963039 ,\n",
       "        0.40293809,  0.41047568,  0.41821156,  0.42682248,  0.43604321,\n",
       "        0.44425087,  0.45207101,  0.46098004,  0.46678967,  0.47675879,\n",
       "        0.48311026,  0.4899416 ,  0.49867725,  0.50504371,  0.5105514 ,\n",
       "        0.51592798,  0.52575865,  0.53228121,  0.54172767,  0.54966393,\n",
       "        0.55471698,  0.56341276,  0.56997654,  0.5782367 ,  0.58548387,\n",
       "        0.58957655,  0.59604287,  0.6038526 ,  0.61276596,  0.62305026,\n",
       "        0.62917399,  0.63652641,  0.64363636,  0.64711274,  0.65237651,\n",
       "        0.6647619 ,  0.67055394,  0.6798419 ,  0.686     ,  0.68850806,\n",
       "        0.69269777,  0.70051282,  0.70686071,  0.71383316,  0.7196162 ,\n",
       "        0.72570194,  0.73362445,  0.74197121,  0.74747475,  0.75570776,\n",
       "        0.76069364,  0.76725146,  0.77058824,  0.77619048,  0.78192771,\n",
       "        0.78953771,  0.79314565,  0.79975278,  0.80625   ,  0.80958386,\n",
       "        0.81760204,  0.82345361,  0.82857143,  0.83333333,  0.83641161,\n",
       "        0.84946237,  0.85230352,  0.85694823,  0.86244842,  0.8660221 ,\n",
       "        0.86871508,  0.87447109,  0.87943262,  0.88091822,  0.89098837,\n",
       "        0.89427313,  0.89660266,  0.89895988,  0.90149254,  0.90468986,\n",
       "        0.90992366,  0.9124424 ,  0.91512346,  0.91640867,  0.91887676,\n",
       "        0.92319749,  0.92598425,  0.92586751,  0.92551506,  0.92539683,\n",
       "        0.92527822,  0.92675159,  0.92914654,  0.92973856,  0.93103448,\n",
       "        0.93034826,  0.93311037,  0.93423272,  0.93548387,  0.93526405,\n",
       "        0.93642612,  0.94220665,  0.94356261,  0.9430605 ,  0.942959  ,\n",
       "        0.95081967,  0.95036765,  0.95194085,  0.95300752,  0.95428571,\n",
       "        0.95375723,  0.95339806,  0.95694716,  0.96222664,  0.96761134,\n",
       "        0.97137014,  0.97505198,  0.97473684,  0.97876858,  0.97863248,\n",
       "        0.97844828,  0.98043478,  0.98672566,  0.98654709,  0.98645598,\n",
       "        0.98639456,  0.98855835,  0.99074074,  0.99065421,  0.99524941,\n",
       "        0.99520384,  0.99515738,  0.99512195,  0.99506173,  0.9975    ,\n",
       "        0.99747475,  0.99745547,  0.99741602,  0.99737533,  1.        ,\n",
       "        1.        ,  1.        ,  1.        ,  1.        ,  1.        ,\n",
       "        1.        ,  1.        ,  1.        ,  1.        ,  1.        ,\n",
       "        1.        ,  1.        ,  1.        ,  1.        ,  1.        ,\n",
       "        1.        ,  1.        ,  1.        ,  1.        ,  1.        ,\n",
       "        1.        ,  1.        ,  1.        ,  1.        ,  1.        ,\n",
       "        1.        ,  1.        ,  1.        ,  1.        ,  1.        ,\n",
       "        1.        ,  1.        ,  1.        ,  1.        ,  1.        ,\n",
       "        1.        ,  1.        ,  1.        ,  1.        ,  1.        ,\n",
       "        1.        ,  1.        ,  1.        ,  1.        ,  1.        ,  1.        ])"
      ]
     },
     "execution_count": 109,
     "metadata": {},
     "output_type": "execute_result"
    }
   ],
   "source": [
    "precision"
   ]
  },
  {
   "cell_type": "code",
   "execution_count": 141,
   "metadata": {
    "collapsed": false
   },
   "outputs": [
    {
     "data": {
      "text/plain": [
       "0    2701\n",
       "1     785\n",
       "Name: inducted, dtype: int64"
      ]
     },
     "execution_count": 141,
     "metadata": {},
     "output_type": "execute_result"
    }
   ],
   "source": [
    "y4_test.value_counts()"
   ]
  },
  {
   "cell_type": "code",
   "execution_count": 142,
   "metadata": {
    "collapsed": false
   },
   "outputs": [
    {
     "data": {
      "text/plain": [
       "3.440764331210191"
      ]
     },
     "execution_count": 142,
     "metadata": {},
     "output_type": "execute_result"
    }
   ],
   "source": [
    "2701./785"
   ]
  },
  {
   "cell_type": "markdown",
   "metadata": {},
   "source": [
    "### From http://scikit-learn.org/stable/modules/generated/sklearn.tree.DecisionTreeClassifier.html\n",
    "\n",
    ">>> from sklearn.datasets import load_iris\n",
    ">>> from sklearn.cross_validation import cross_val_score\n",
    ">>> from sklearn.tree import DecisionTreeClassifier\n",
    ">>> clf = DecisionTreeClassifier(random_state=0)\n",
    ">>> iris = load_iris()\n",
    ">>> cross_val_score(clf, iris.data, iris.target, cv=10)"
   ]
  },
  {
   "cell_type": "code",
   "execution_count": 88,
   "metadata": {
    "collapsed": true
   },
   "outputs": [],
   "source": [
    "dt01 = DecisionTreeClassifier(class_weight='balanced')"
   ]
  },
  {
   "cell_type": "code",
   "execution_count": 89,
   "metadata": {
    "collapsed": true
   },
   "outputs": [],
   "source": [
    "temp = RandomForestClassifier(class_weight='balanced')"
   ]
  },
  {
   "cell_type": "code",
   "execution_count": 91,
   "metadata": {
    "collapsed": false
   },
   "outputs": [],
   "source": [
    "temp = SVC(class_weight='balanced')"
   ]
  },
  {
   "cell_type": "code",
   "execution_count": null,
   "metadata": {
    "collapsed": true
   },
   "outputs": [],
   "source": []
  }
 ],
 "metadata": {
  "kernelspec": {
   "display_name": "Python 2",
   "language": "python",
   "name": "python2"
  },
  "language_info": {
   "codemirror_mode": {
    "name": "ipython",
    "version": 2
   },
   "file_extension": ".py",
   "mimetype": "text/x-python",
   "name": "python",
   "nbconvert_exporter": "python",
   "pygments_lexer": "ipython2",
   "version": "2.7.11"
  }
 },
 "nbformat": 4,
 "nbformat_minor": 0
}
