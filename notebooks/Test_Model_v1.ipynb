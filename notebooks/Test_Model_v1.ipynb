{
 "cells": [
  {
   "cell_type": "code",
   "execution_count": 1,
   "metadata": {
    "collapsed": false
   },
   "outputs": [
    {
     "name": "stderr",
     "output_type": "stream",
     "text": [
      "/Applications/anaconda/lib/python2.7/site-packages/pandas/computation/__init__.py:19: UserWarning: The installed version of numexpr 2.4.4 is not supported in pandas and will be not be used\n",
      "\n",
      "  UserWarning)\n"
     ]
    }
   ],
   "source": [
    "import pandas as pd\n",
    "import numpy as np\n",
    "import sklearn as sk\n",
    "import pickle\n",
    "from sklearn.svm import SVC\n",
    "from sklearn.svm import LinearSVC\n",
    "from sklearn.linear_model import LogisticRegressionCV\n",
    "from sklearn.linear_model import LogisticRegression\n",
    "from sklearn.tree import DecisionTreeClassifier\n",
    "from sklearn.ensemble import RandomForestClassifier\n",
    "from sklearn.ensemble import GradientBoostingClassifier\n",
    "from sklearn.cross_validation import train_test_split\n",
    "from sklearn import metrics\n",
    "from sklearn.metrics import confusion_matrix\n",
    "from sklearn.metrics import classification_report\n",
    "from sklearn.metrics import hinge_loss\n",
    "from sklearn.grid_search import GridSearchCV\n",
    "from sklearn.metrics import precision_recall_curve\n",
    "from sklearn.cross_validation import cross_val_score\n",
    "from sklearn.metrics import roc_curve\n",
    "from sklearn.metrics import auc\n",
    "\n",
    "import matplotlib.pyplot as plt\n",
    "%matplotlib inline\n",
    "\n",
    "from imblearn.over_sampling import RandomOverSampler\n",
    "from imblearn.over_sampling import SMOTE"
   ]
  },
  {
   "cell_type": "code",
   "execution_count": 2,
   "metadata": {
    "collapsed": true
   },
   "outputs": [],
   "source": [
    "with open('rf03e2.pkl') as f:\n",
    "    rf03e2 = pickle.load(f)\n"
   ]
  },
  {
   "cell_type": "code",
   "execution_count": 12,
   "metadata": {
    "collapsed": false
   },
   "outputs": [],
   "source": [
    "with open('active_hitters_X3.pkl') as f:\n",
    "    active_hitters_X3 = pickle.load(f)\n",
    "\n",
    "with open('active_hitters.pkl') as f:\n",
    "    active_hitters = pickle.load(f)\n"
   ]
  },
  {
   "cell_type": "code",
   "execution_count": 7,
   "metadata": {
    "collapsed": false
   },
   "outputs": [
    {
     "data": {
      "text/html": [
       "<div>\n",
       "<table border=\"1\" class=\"dataframe\">\n",
       "  <thead>\n",
       "    <tr style=\"text-align: right;\">\n",
       "      <th></th>\n",
       "      <th>R_ratio</th>\n",
       "      <th>H_ratio</th>\n",
       "      <th>HR_ratio</th>\n",
       "      <th>RBI_ratio</th>\n",
       "      <th>SB_ratio</th>\n",
       "      <th>BB_ratio</th>\n",
       "      <th>year</th>\n",
       "      <th>yearID</th>\n",
       "      <th>RBI_filled</th>\n",
       "      <th>SB_filled</th>\n",
       "    </tr>\n",
       "  </thead>\n",
       "  <tbody>\n",
       "    <tr>\n",
       "      <th>136</th>\n",
       "      <td>0.323093</td>\n",
       "      <td>0.339352</td>\n",
       "      <td>0.611266</td>\n",
       "      <td>0.340209</td>\n",
       "      <td>0.456546</td>\n",
       "      <td>0.270966</td>\n",
       "      <td>1</td>\n",
       "      <td>2014</td>\n",
       "      <td>0</td>\n",
       "      <td>0</td>\n",
       "    </tr>\n",
       "    <tr>\n",
       "      <th>137</th>\n",
       "      <td>0.187602</td>\n",
       "      <td>0.175629</td>\n",
       "      <td>0.305633</td>\n",
       "      <td>0.175970</td>\n",
       "      <td>0.256807</td>\n",
       "      <td>0.175331</td>\n",
       "      <td>2</td>\n",
       "      <td>2015</td>\n",
       "      <td>0</td>\n",
       "      <td>0</td>\n",
       "    </tr>\n",
       "    <tr>\n",
       "      <th>235</th>\n",
       "      <td>0.097411</td>\n",
       "      <td>0.105724</td>\n",
       "      <td>0.114263</td>\n",
       "      <td>0.098681</td>\n",
       "      <td>0.053338</td>\n",
       "      <td>0.089384</td>\n",
       "      <td>1</td>\n",
       "      <td>2013</td>\n",
       "      <td>0</td>\n",
       "      <td>0</td>\n",
       "    </tr>\n",
       "    <tr>\n",
       "      <th>236</th>\n",
       "      <td>0.141247</td>\n",
       "      <td>0.183626</td>\n",
       "      <td>0.142829</td>\n",
       "      <td>0.131575</td>\n",
       "      <td>0.133346</td>\n",
       "      <td>0.134076</td>\n",
       "      <td>2</td>\n",
       "      <td>2014</td>\n",
       "      <td>0</td>\n",
       "      <td>0</td>\n",
       "    </tr>\n",
       "    <tr>\n",
       "      <th>237</th>\n",
       "      <td>0.211058</td>\n",
       "      <td>0.229996</td>\n",
       "      <td>0.190438</td>\n",
       "      <td>0.175433</td>\n",
       "      <td>0.213353</td>\n",
       "      <td>0.193666</td>\n",
       "      <td>3</td>\n",
       "      <td>2015</td>\n",
       "      <td>0</td>\n",
       "      <td>0</td>\n",
       "    </tr>\n",
       "  </tbody>\n",
       "</table>\n",
       "</div>"
      ],
      "text/plain": [
       "      R_ratio   H_ratio  HR_ratio  RBI_ratio  SB_ratio  BB_ratio  year  \\\n",
       "136  0.323093  0.339352  0.611266   0.340209  0.456546  0.270966     1   \n",
       "137  0.187602  0.175629  0.305633   0.175970  0.256807  0.175331     2   \n",
       "235  0.097411  0.105724  0.114263   0.098681  0.053338  0.089384     1   \n",
       "236  0.141247  0.183626  0.142829   0.131575  0.133346  0.134076     2   \n",
       "237  0.211058  0.229996  0.190438   0.175433  0.213353  0.193666     3   \n",
       "\n",
       "     yearID  RBI_filled  SB_filled  \n",
       "136    2014           0          0  \n",
       "137    2015           0          0  \n",
       "235    2013           0          0  \n",
       "236    2014           0          0  \n",
       "237    2015           0          0  "
      ]
     },
     "execution_count": 7,
     "metadata": {},
     "output_type": "execute_result"
    }
   ],
   "source": [
    "active_hitters_X3.head(5)"
   ]
  },
  {
   "cell_type": "code",
   "execution_count": 14,
   "metadata": {
    "collapsed": false
   },
   "outputs": [
    {
     "data": {
      "text/plain": [
       "pandas.core.series.Series"
      ]
     },
     "execution_count": 14,
     "metadata": {},
     "output_type": "execute_result"
    }
   ],
   "source": [
    "type(active_hitters)"
   ]
  },
  {
   "cell_type": "code",
   "execution_count": 16,
   "metadata": {
    "collapsed": false
   },
   "outputs": [],
   "source": [
    "predictions = rf03e2.predict(active_hitters_X3)"
   ]
  },
  {
   "cell_type": "code",
   "execution_count": 20,
   "metadata": {
    "collapsed": false
   },
   "outputs": [
    {
     "data": {
      "text/plain": [
       "array(['alcanar01', 'alcanar01', 'alcanar01', ..., 'alcanar01',\n",
       "       'alcanar01', 'alcanar01'], dtype=object)"
      ]
     },
     "execution_count": 20,
     "metadata": {},
     "output_type": "execute_result"
    }
   ],
   "source": [
    "np.array(active_hitters)[predictions]"
   ]
  },
  {
   "cell_type": "code",
   "execution_count": null,
   "metadata": {
    "collapsed": true
   },
   "outputs": [],
   "source": []
  }
 ],
 "metadata": {
  "kernelspec": {
   "display_name": "Python 2",
   "language": "python",
   "name": "python2"
  },
  "language_info": {
   "codemirror_mode": {
    "name": "ipython",
    "version": 2
   },
   "file_extension": ".py",
   "mimetype": "text/x-python",
   "name": "python",
   "nbconvert_exporter": "python",
   "pygments_lexer": "ipython2",
   "version": "2.7.11"
  }
 },
 "nbformat": 4,
 "nbformat_minor": 0
}
